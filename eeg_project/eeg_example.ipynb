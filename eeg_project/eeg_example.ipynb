{
 "cells": [
  {
   "cell_type": "markdown",
   "metadata": {},
   "source": []
  },
  {
   "cell_type": "markdown",
   "source": [
    "# HMS - harmful brain activity\n",
    "\n",
    "The aim of this project is to create and train a deep learning model that will detect harmful brain activity from EEG signal"
   ],
   "metadata": {
    "collapsed": false
   }
  },
  {
   "cell_type": "markdown",
   "metadata": {},
   "source": [
    "Libraries we're going to use\n",
    "\n",
    "`pandas` - a library for reading and processing data frames and input data files\n",
    "`numpy` - mathematical library for efficient multidimensional algebra and raw data processing\n",
    "`pytorch` - deep learning library and framework that allows for efficient data processing and neural network training using cpu or gpu\n",
    "`scikit-learn` - sklearn - Rich in functionality machine learning and data science library. Industry standard for ML\n",
    "`scipy` - scientific library including many mathematical tools. For example for signal processing\n",
    "`os` - operating system packet that allows for navigating in the file system from the level of python"
   ]
  },
  {
   "cell_type": "code",
   "execution_count": 1,
   "metadata": {
    "ExecuteTime": {
     "end_time": "2024-06-11T17:55:05.995193700Z",
     "start_time": "2024-06-11T17:55:03.403195100Z"
    }
   },
   "outputs": [],
   "source": [
    "import pandas as pd\n",
    "import numpy as np\n",
    "import torch\n",
    "import sklearn\n",
    "import scipy\n",
    "import os"
   ]
  },
  {
   "cell_type": "markdown",
   "source": [
    "We want to fully utilise our resources. We use `cuda` - a tool used by `pytorch` to perform computation on gpu - this way neural networks can be trained much faster"
   ],
   "metadata": {
    "collapsed": false
   }
  },
  {
   "cell_type": "code",
   "execution_count": 2,
   "outputs": [
    {
     "data": {
      "text/plain": "'cuda'"
     },
     "execution_count": 2,
     "metadata": {},
     "output_type": "execute_result"
    }
   ],
   "source": [
    "DEVICE = \"cuda\" if torch.cuda.is_available() else \"cpu\"\n",
    "DEVICE"
   ],
   "metadata": {
    "collapsed": false,
    "ExecuteTime": {
     "end_time": "2024-06-11T17:55:06.073192700Z",
     "start_time": "2024-06-11T17:55:06.050193200Z"
    }
   }
  },
  {
   "cell_type": "markdown",
   "metadata": {},
   "source": [
    "# Loading the data\n",
    "\n",
    "The data comes from [kaggle](https://www.kaggle.com/competitions/hms-harmful-brain-activity-classification) competition. \n",
    "\n",
    " It consists of `.parquet` files with eeg signal data as well as plotted spectrograms of the signals."
   ]
  },
  {
   "cell_type": "code",
   "execution_count": 3,
   "outputs": [],
   "source": [
    "SAMPLING_FREQUENCY = 200\n",
    "SAMPLES_IN_MEASUREMENT = 10000"
   ],
   "metadata": {
    "collapsed": false,
    "ExecuteTime": {
     "end_time": "2024-06-11T17:55:06.074193100Z",
     "start_time": "2024-06-11T17:55:06.059193400Z"
    }
   }
  },
  {
   "cell_type": "code",
   "execution_count": 4,
   "metadata": {
    "ExecuteTime": {
     "end_time": "2024-06-11T17:55:06.120193800Z",
     "start_time": "2024-06-11T17:55:06.076193400Z"
    }
   },
   "outputs": [],
   "source": [
    "# directory that contains data from kaggle hms\n",
    "INPUT_DATA_DIR = \"data\"\n",
    "\n",
    "# directory in which our npy files are/will be stored - this will allow for faster loading of the data later\n",
    "PROCESSED_DATA_DIR = \"processed_data\""
   ]
  },
  {
   "cell_type": "markdown",
   "metadata": {
    "execution": {
     "iopub.execute_input": "2024-03-09T14:46:01.191866Z",
     "iopub.status.busy": "2024-03-09T14:46:01.191481Z",
     "iopub.status.idle": "2024-03-09T14:46:01.205753Z",
     "shell.execute_reply": "2024-03-09T14:46:01.204294Z",
     "shell.execute_reply.started": "2024-03-09T14:46:01.191832Z"
    }
   },
   "source": [
    "The metadata is stored in train.csv and test.csv files"
   ]
  },
  {
   "cell_type": "code",
   "execution_count": 5,
   "metadata": {
    "ExecuteTime": {
     "end_time": "2024-06-11T17:55:06.191192300Z",
     "start_time": "2024-06-11T17:55:06.091193600Z"
    }
   },
   "outputs": [],
   "source": [
    "train_meta_full = pd.read_csv(INPUT_DATA_DIR + \"/train.csv\")\n",
    "train_meta = train_meta_full.loc[train_meta_full[\"eeg_sub_id\"] == 0]\n",
    "\n",
    "test_meta = pd.read_csv(INPUT_DATA_DIR + \"/test.csv\")"
   ]
  },
  {
   "cell_type": "markdown",
   "metadata": {
    "collapsed": false
   },
   "source": [
    "Signal data tends to be very noisy. That's why it's important to filter the noise before processing the data further. For this we'll use the butterworth lowpass filter.\n",
    "\n",
    "Lowpass filter filters out high and noisy frequencies. It only allows the frequencies lower than specified to pass through it.\n",
    "\n",
    "The data is sampled at the frequency of 200Hz, we want to cut off noise frequencies higher than 20Hz"
   ]
  },
  {
   "cell_type": "code",
   "execution_count": 6,
   "metadata": {
    "collapsed": false,
    "ExecuteTime": {
     "end_time": "2024-06-11T17:55:06.218192900Z",
     "start_time": "2024-06-11T17:55:06.185192300Z"
    }
   },
   "outputs": [],
   "source": [
    "cutoff_freq = 20\n",
    "sampling_rate = 200\n",
    "order = 4\n",
    "lowcut = 0.5\n",
    "highcut = 20\n",
    "\n",
    "b, a = scipy.signal.butter(\n",
    "    order, (lowcut, highcut), btype=\"bandpass\", analog=False, fs=sampling_rate\n",
    ")"
   ]
  },
  {
   "cell_type": "markdown",
   "metadata": {
    "collapsed": false
   },
   "source": [
    "Extract `.parquet` data.\n",
    "\n",
    "The training data is stored in `.parquet` files as individual read values of separate electrodes placed on patient's head during EEG examination.\n",
    "\n",
    "Normally specialists don't analyze the separate signals but rather differences between the neighbouring electrodes. \n",
    "\n",
    "`extract_parquet` function computes those differences and creates time series of those differences as opposed to pure signal.\n",
    "\n",
    "Those differences are then processed with previously initialized lowpass filter, clipped so that their values are not too high and converted to pytorch tensor objects.\n",
    "\n",
    "We want to use pytorch tensors because it's the object class required to perform neural network training."
   ]
  },
  {
   "cell_type": "code",
   "execution_count": 7,
   "metadata": {
    "ExecuteTime": {
     "end_time": "2024-06-11T17:55:06.234192700Z",
     "start_time": "2024-06-11T17:55:06.217193300Z"
    }
   },
   "outputs": [],
   "source": [
    "# take a parquet dataframe and compute correct values for each column\n",
    "# we want columns such as \"Fp1-F7\" as can be seen in /example_figures\n",
    "def extract_parquet(parquet_data: torch.tensor):\n",
    "    parquet_data[\"Fp1-F7\"] = parquet_data[\"Fp1\"] - parquet_data[\"F7\"]\n",
    "    parquet_data[\"F7-T3\"] = parquet_data[\"F7\"] - parquet_data[\"T3\"]\n",
    "    parquet_data[\"T3-T5\"] = parquet_data[\"T3\"] - parquet_data[\"T5\"]\n",
    "    parquet_data[\"T5-O1\"] = parquet_data[\"T5\"] - parquet_data[\"O1\"]\n",
    "\n",
    "    parquet_data[\"Fp2-F8\"] = parquet_data[\"Fp2\"] - parquet_data[\"F8\"]\n",
    "    parquet_data[\"F8-T4\"] = parquet_data[\"F8\"] - parquet_data[\"T4\"]\n",
    "    parquet_data[\"T4-T6\"] = parquet_data[\"T4\"] - parquet_data[\"T6\"]\n",
    "    parquet_data[\"T6-O2\"] = parquet_data[\"T6\"] - parquet_data[\"O2\"]\n",
    "\n",
    "    parquet_data[\"Fp1-F3\"] = parquet_data[\"Fp1\"] - parquet_data[\"F3\"]\n",
    "    parquet_data[\"F3-C3\"] = parquet_data[\"F3\"] - parquet_data[\"C3\"]\n",
    "    parquet_data[\"C3-P3\"] = parquet_data[\"C3\"] - parquet_data[\"P3\"]\n",
    "    parquet_data[\"P3-O1\"] = parquet_data[\"P3\"] - parquet_data[\"O1\"]\n",
    "\n",
    "    parquet_data[\"Fp2-F4\"] = parquet_data[\"Fp2\"] - parquet_data[\"F4\"]\n",
    "    parquet_data[\"F4-C4\"] = parquet_data[\"F4\"] - parquet_data[\"C4\"]\n",
    "    parquet_data[\"C4-P4\"] = parquet_data[\"C4\"] - parquet_data[\"P4\"]\n",
    "    parquet_data[\"P4-O2\"] = parquet_data[\"P4\"] - parquet_data[\"O2\"]\n",
    "\n",
    "    parquet_data[\"Fz-Cz\"] = parquet_data[\"Fz\"] - parquet_data[\"Cz\"]\n",
    "    parquet_data[\"Cz-Pz\"] = parquet_data[\"Cz\"] - parquet_data[\"Pz\"]\n",
    "\n",
    "    parquet_data = parquet_data.drop(\n",
    "        [\n",
    "            \"Fp1\",\n",
    "            \"F3\",\n",
    "            \"C3\",\n",
    "            \"P3\",\n",
    "            \"F7\",\n",
    "            \"T3\",\n",
    "            \"T5\",\n",
    "            \"O1\",\n",
    "            \"Fz\",\n",
    "            \"Cz\",\n",
    "            \"Pz\",\n",
    "            \"Fp2\",\n",
    "            \"F4\",\n",
    "            \"C4\",\n",
    "            \"P4\",\n",
    "            \"F8\",\n",
    "            \"T4\",\n",
    "            \"T6\",\n",
    "            \"O2\",\n",
    "        ],\n",
    "        axis=1,\n",
    "    )\n",
    "\n",
    "    # we want to reorder the columns so that the EKG signal is at the end.\n",
    "    idx = parquet_data.columns[1:].to_list() + [parquet_data.columns[0]]\n",
    "\n",
    "    # we want to transpose the values so that they're easier to handle later\n",
    "    parquet_data = parquet_data[idx].values.T\n",
    "\n",
    "    # filter the high frequencies\n",
    "    parquet_data = scipy.signal.lfilter(b, a, parquet_data, axis=0)\n",
    "\n",
    "    # convert to pytorch tensor\n",
    "    parquet_data = torch.from_numpy(parquet_data).type(torch.float32)\n",
    "\n",
    "    # clip high values to 1024\n",
    "    parquet_data = torch.clip(parquet_data, -1024, 1024)\n",
    "\n",
    "    return parquet_data"
   ]
  },
  {
   "cell_type": "markdown",
   "metadata": {},
   "source": [
    "We need to extract the data from the `.parquet` files, so in a loop we'll iterate through the metadata and extract the data and the training labels."
   ]
  },
  {
   "cell_type": "code",
   "execution_count": 8,
   "metadata": {
    "collapsed": false,
    "ExecuteTime": {
     "end_time": "2024-06-11T17:55:06.267193300Z",
     "start_time": "2024-06-11T17:55:06.234192700Z"
    }
   },
   "outputs": [],
   "source": [
    "# # A list for data entries from different files\n",
    "# eeg_data = []\n",
    "# \n",
    "# # indices of the dataframes with too many missing values\n",
    "# faulty_eeg_id = []\n",
    "# \n",
    "# if not os.path.exists(f\"{PROCESSED_DATA_DIR}/eeg_labels.pt\"):\n",
    "#     os.makedirs(PROCESSED_DATA_DIR,exist_ok=True)\n",
    "# \n",
    "#     # iterate through IDs of eeg and extract each .parquet file\n",
    "#     for eeg_id in train_meta[\"eeg_id\"]:\n",
    "#         # open the file using pandas\n",
    "#         parquet_data = pd.read_parquet(INPUT_DATA_DIR + f\"/train_eegs/{eeg_id}.parquet\")\n",
    "# \n",
    "#         # fill the missing values and extract the first 10000 measurements\n",
    "#         parquet_data = parquet_data.interpolate(method=\"ffill\")[:10000]\n",
    "# \n",
    "#         # If at this point there are any missing values, the file can't be used\n",
    "#         if np.any(parquet_data.isna()):\n",
    "#             faulty_eeg_id.append(eeg_id)\n",
    "#             continue\n",
    "# \n",
    "#         # we call the preprocessing function\n",
    "#         eeg = extract_parquet(parquet_data)\n",
    "# \n",
    "#         # and add the data to the list of processed entries\n",
    "#         eeg_data.append(eeg)\n",
    "# \n",
    "#     # convert the list of tensors to one tensor\n",
    "#     eeg_data = torch.stack(eeg_data)\n",
    "# \n",
    "#     # save to PROCESSED_DATA_TIR\n",
    "#     torch.save(eeg_data, f\"{PROCESSED_DATA_DIR}/eeg_data.pt\")\n",
    "# \n",
    "#     # extract labels for valid entries\n",
    "#     all_labels = train_meta.loc[~train_meta[\"eeg_id\"].isin(faulty_eeg_id)]\n",
    "#     eeg_labels = all_labels[\n",
    "#         [\"seizure_vote\", \"lpd_vote\", \"gpd_vote\", \"lrda_vote\", \"grda_vote\", \"other_vote\"]\n",
    "#     ].values\n",
    "# \n",
    "#     # convert labels to pytorch tensor\n",
    "#     eeg_labels = torch.tensor(np.array(eeg_labels), dtype=torch.float32)\n",
    "# \n",
    "#     # The labels are probability - they must sum to 1\n",
    "#     eeg_labels = eeg_labels / eeg_labels.sum(dim=1, keepdims=True)\n",
    "# \n",
    "#     # save for easier training later\n",
    "#     torch.save(eeg_labels, f\"{PROCESSED_DATA_DIR}/eeg_labels.pt\")\n",
    "# else:\n",
    "#     eeg_data = torch.load(f\"{PROCESSED_DATA_DIR}/eeg_data.pt\")\n",
    "#     eeg_labels = torch.load(f\"{PROCESSED_DATA_DIR}/eeg_labels.pt\")"
   ]
  },
  {
   "cell_type": "code",
   "execution_count": 9,
   "outputs": [],
   "source": [
    "def retrieve_eeg_dataset():\n",
    "    if not os.path.exists(f\"{PROCESSED_DATA_DIR}/eeg_labels_full.pt\"):\n",
    "        os.makedirs(PROCESSED_DATA_DIR,exist_ok=True)\n",
    "        \n",
    "        eeg_data_full = []\n",
    "        eeg_labels_full = []\n",
    "        eeg_id_measurements = []\n",
    "        \n",
    "        i = 0\n",
    "        # iterate through IDs of eeg and extract each .parquet file\n",
    "        for eeg_id in train_meta_full[\"eeg_id\"].unique():\n",
    "            if i % 500 == 0: print(i)\n",
    "            i+=1\n",
    "            # open the file using pandas\n",
    "            parquet_data = pd.read_parquet(INPUT_DATA_DIR + f\"/train_eegs/{eeg_id}.parquet\")\n",
    "            \n",
    "            # read and interpolate the data\n",
    "            parquet_data = extract_parquet(parquet_data.interpolate(method=\"ffill\"))\n",
    "            \n",
    "            for idx, row in train_meta_full.loc[train_meta_full[\"eeg_id\"]==eeg_id].iterrows():\n",
    "                offset = int(200*row[\"eeg_label_offset_seconds\"])\n",
    "                \n",
    "                parquet_window = parquet_data[:,offset:offset+10000]\n",
    "    \n",
    "                # If at this point there are any missing values, the file can't be used\n",
    "                if torch.any(parquet_window.isnan()):\n",
    "                    continue\n",
    "        \n",
    "                # and add the data to the list of processed entries\n",
    "                eeg_data_full.append(parquet_window)\n",
    "                eeg_labels_full.append(row[[\"seizure_vote\", \"lpd_vote\", \"gpd_vote\", \"lrda_vote\", \"grda_vote\", \"other_vote\"]].values)\n",
    "                eeg_id_measurements.append(eeg_id)\n",
    "        \n",
    "        \n",
    "        # convert the list of tensors to one tensor\n",
    "        print(\"stacking eeg\")\n",
    "        eeg_data_full = torch.stack(eeg_data_full)\n",
    "    \n",
    "        # save to PROCESSED_DATA_TIR\n",
    "        print(\"saving eeg\")\n",
    "        torch.save(eeg_data_full, f\"{PROCESSED_DATA_DIR}/eeg_data_full.pt\")\n",
    "        \n",
    "        # stack labels to one numpy array and convert to pytorch tensor\n",
    "        print(\"stacking labels\")\n",
    "        eeg_labels_full = np.vstack(eeg_labels_full)\n",
    "        print(\"converting labels\")\n",
    "        eeg_labels_full = torch.from_numpy(eeg_labels_full.astype(np.float32))\n",
    "    \n",
    "        # The labels represent probability - they must sum to 1\n",
    "        print(\"labels -> distribution\")\n",
    "        eeg_labels_full = eeg_labels_full / eeg_labels_full.sum(dim=1, keepdims=True)\n",
    "    \n",
    "        # save for easier reuse later\n",
    "        print(\"saving labels\")\n",
    "        torch.save(eeg_labels_full, f\"{PROCESSED_DATA_DIR}/eeg_labels_full.pt\")\n",
    "        \n",
    "        eeg_id_measurements = torch.tensor(np.array(eeg_id_measurements))\n",
    "        torch.save(eeg_id_measurements,f\"{PROCESSED_DATA_DIR}/eeg_id_measuerements.pt\")\n",
    "    else:\n",
    "        eeg_data_full = torch.load(f\"{PROCESSED_DATA_DIR}/eeg_data_full.pt\")\n",
    "        eeg_labels_full = torch.load(f\"{PROCESSED_DATA_DIR}/eeg_labels_full.pt\")\n",
    "        eeg_id_measurements = torch.load(f\"{PROCESSED_DATA_DIR}/eeg_id_measuerements.pt\")\n",
    "    return eeg_data_full, eeg_labels_full, eeg_id_measurements"
   ],
   "metadata": {
    "collapsed": false,
    "ExecuteTime": {
     "end_time": "2024-06-11T17:55:06.268192900Z",
     "start_time": "2024-06-11T17:55:06.251192300Z"
    }
   }
  },
  {
   "cell_type": "code",
   "execution_count": 10,
   "outputs": [],
   "source": [
    "from sklearn.model_selection import train_test_split\n",
    "\n",
    "if not os.path.exists(f\"{PROCESSED_DATA_DIR}/labels_valid.pt\"):\n",
    "    eeg_data_full,eeg_labels_full, eeg_id_measurements = retrieve_eeg_dataset()\n",
    "    \n",
    "    id_train, id_test = train_test_split(\n",
    "        torch.unique(eeg_id_measurements), test_size=0.2\n",
    "    )\n",
    "    \n",
    "    id_test, id_valid = train_test_split(\n",
    "        id_test, test_size=0.5\n",
    "    )\n",
    "    \n",
    "    train_idx = torch.isin(eeg_id_measurements, id_train)\n",
    "    test_idx = torch.isin(eeg_id_measurements, id_test)\n",
    "    valid_idx = torch.isin(eeg_id_measurements, id_valid)\n",
    "    del eeg_id_measurements\n",
    "    \n",
    "    X_train, y_train = eeg_data_full[train_idx], eeg_labels_full[train_idx]\n",
    "    X_test, y_test = eeg_data_full[test_idx], eeg_labels_full[test_idx]\n",
    "    X_valid, y_valid = eeg_data_full[valid_idx], eeg_labels_full[valid_idx]\n",
    "    del eeg_data_full\n",
    "    del eeg_labels_full\n",
    "    \n",
    "    torch.save(X_train,f\"{PROCESSED_DATA_DIR}/eeg_train.pt\")\n",
    "    torch.save(y_train,f\"{PROCESSED_DATA_DIR}/labels_train.pt\")\n",
    "    torch.save(X_test,f\"{PROCESSED_DATA_DIR}/eeg_test.pt\")\n",
    "    torch.save(y_test,f\"{PROCESSED_DATA_DIR}/labels_test.pt\")\n",
    "    torch.save(X_valid,f\"{PROCESSED_DATA_DIR}/eeg_valid.pt\")\n",
    "    torch.save(y_valid,f\"{PROCESSED_DATA_DIR}/labels_valid.pt\")\n",
    "else:\n",
    "    X_train = torch.load(f\"{PROCESSED_DATA_DIR}/eeg_train.pt\")\n",
    "    y_train = torch.load(f\"{PROCESSED_DATA_DIR}/labels_train.pt\")\n",
    "    X_test = torch.load(f\"{PROCESSED_DATA_DIR}/eeg_test.pt\")\n",
    "    y_test = torch.load(f\"{PROCESSED_DATA_DIR}/labels_test.pt\")\n",
    "    X_valid = torch.load(f\"{PROCESSED_DATA_DIR}/eeg_valid.pt\")\n",
    "    y_valid = torch.load(f\"{PROCESSED_DATA_DIR}/labels_valid.pt\")"
   ],
   "metadata": {
    "collapsed": false,
    "ExecuteTime": {
     "end_time": "2024-06-11T17:56:12.666542900Z",
     "start_time": "2024-06-11T17:55:06.267193300Z"
    }
   }
  },
  {
   "cell_type": "markdown",
   "metadata": {},
   "source": [
    "---"
   ]
  },
  {
   "cell_type": "markdown",
   "metadata": {},
   "source": [
    "# Creating a data loader, preprocessing"
   ]
  },
  {
   "cell_type": "markdown",
   "metadata": {},
   "source": [
    "Using scikit-learn we'll split the data into training and testing dataset"
   ]
  },
  {
   "cell_type": "code",
   "execution_count": 11,
   "metadata": {
    "collapsed": false,
    "ExecuteTime": {
     "end_time": "2024-06-11T17:56:12.721056Z",
     "start_time": "2024-06-11T17:56:12.686902100Z"
    }
   },
   "outputs": [],
   "source": [
    "# from sklearn.model_selection import train_test_split\n",
    "# \n",
    "# X_train, X_test, y_train, y_test = train_test_split(\n",
    "#     eeg_data_full, eeg_labels_full, test_size=0.2\n",
    "# )\n",
    "# \n",
    "# X_test, X_valid, y_test, y_valid = train_test_split(\n",
    "#     X_test, y_test, test_size=0.5\n",
    "# )\n"
   ]
  },
  {
   "cell_type": "markdown",
   "source": [
    "To perform the computation on gpu, we have to move the data into cuda"
   ],
   "metadata": {
    "collapsed": false
   }
  },
  {
   "cell_type": "code",
   "execution_count": 12,
   "outputs": [],
   "source": [
    "# X_train, y_train = X_train.to(DEVICE), y_train.to(DEVICE)\n",
    "# X_valid, y_valid = X_valid.to(DEVICE), y_valid.to(DEVICE)\n",
    "# X_test, y_test = X_test.to(DEVICE), y_test.to(DEVICE)"
   ],
   "metadata": {
    "collapsed": false,
    "ExecuteTime": {
     "end_time": "2024-06-11T17:56:12.723056400Z",
     "start_time": "2024-06-11T17:56:12.710956900Z"
    }
   }
  },
  {
   "cell_type": "markdown",
   "metadata": {
    "collapsed": false
   },
   "source": [
    "Create a HMS dataset class that will help us load the data during the model training"
   ]
  },
  {
   "cell_type": "code",
   "execution_count": 13,
   "metadata": {
    "ExecuteTime": {
     "end_time": "2024-06-11T17:56:12.769368200Z",
     "start_time": "2024-06-11T17:56:12.739949900Z"
    }
   },
   "outputs": [],
   "source": [
    "from torch.utils.data import DataLoader, Dataset\n",
    "\n",
    "BATCH_SIZE = 512\n",
    "\n",
    "class CustomImageDataset(Dataset):\n",
    "    def __init__(self, X, y, train = False):\n",
    "        self.X = X\n",
    "        self.y = y\n",
    "        self.train = train\n",
    "\n",
    "    def __len__(self):\n",
    "        return len(self.y)\n",
    "\n",
    "    def __getitem__(self, idx):\n",
    "        return self.X[idx], self.y[idx] \n",
    "\n",
    "train_loader = DataLoader(\n",
    "    CustomImageDataset(X_train, y_train), batch_size=BATCH_SIZE, shuffle=True\n",
    ")\n",
    "\n",
    "test_loader = DataLoader(\n",
    "    CustomImageDataset(X_test, y_test), batch_size=BATCH_SIZE, shuffle=True\n",
    ")\n",
    "\n",
    "valid_loader = DataLoader(\n",
    "    CustomImageDataset(X_valid, y_valid), batch_size=BATCH_SIZE, shuffle=True\n",
    ")"
   ]
  },
  {
   "cell_type": "markdown",
   "metadata": {},
   "source": [
    "---"
   ]
  },
  {
   "cell_type": "markdown",
   "metadata": {},
   "source": [
    "# Creating a model\n",
    "\n",
    "We create a machine learning model - a python object that will be trained to predict correct data labels"
   ]
  },
  {
   "cell_type": "code",
   "execution_count": 14,
   "outputs": [],
   "source": [
    "import torch.nn as nn\n",
    "\n",
    "class ConvModel(nn.Module):\n",
    "    def __init__(self):\n",
    "        super(ConvModel, self).__init__()\n",
    "\n",
    "        self.conv1 = nn.Sequential(\n",
    "            # (19, 10000)\n",
    "            nn.Conv1d(19, 76, kernel_size=5,padding=2,groups=19),\n",
    "            nn.MaxPool1d(2,ceil_mode=True),\n",
    "            nn.BatchNorm1d(76),\n",
    "        )\n",
    "        \n",
    "        self.conv2 = nn.Sequential(\n",
    "            # (64, 5000)\n",
    "            nn.Conv1d(76, 64, kernel_size=5,padding=2),\n",
    "            nn.MaxPool1d(2,ceil_mode=True),\n",
    "            nn.BatchNorm1d(64),\n",
    "        )\n",
    "        \n",
    "        self.conv3 = nn.Sequential(\n",
    "            # (64, 5000)\n",
    "            nn.Conv1d(64, 64, kernel_size=5,padding=2),\n",
    "            nn.MaxPool1d(2,ceil_mode=True),\n",
    "            nn.BatchNorm1d(64),\n",
    "        )\n",
    "        \n",
    "        self.conv4 = nn.Sequential(\n",
    "            # (64, 1250)\n",
    "            nn.Conv1d(64, 32, kernel_size=3,padding=1),\n",
    "            nn.MaxPool1d(2,ceil_mode=True),\n",
    "            nn.BatchNorm1d(32),\n",
    "            # (64,625)\n",
    "        )\n",
    "\n",
    "        \n",
    "        self.mlp = nn.Sequential(\n",
    "            nn.Flatten(),\n",
    "            nn.Dropout(0.5),\n",
    "            \n",
    "            nn.Linear(20000,4096),\n",
    "            nn.Dropout(0.5),\n",
    "            nn.ReLU(inplace=True),\n",
    "            \n",
    "            nn.Linear(4096,4096),\n",
    "            nn.Dropout(0.5),\n",
    "            nn.ReLU(inplace=True),\n",
    "            \n",
    "            nn.Linear(4096, 6),\n",
    "            \n",
    "        )      \n",
    "\n",
    "    # input in CHW / CW format\n",
    "    def forward(self, x):\n",
    "        x = self.conv1(x)\n",
    "        x = self.conv2(x)\n",
    "        x = self.conv3(x)\n",
    "        x = self.conv4(x)\n",
    "        x = self.mlp(x)\n",
    "        return x"
   ],
   "metadata": {
    "collapsed": false,
    "ExecuteTime": {
     "end_time": "2024-06-11T17:56:12.807954800Z",
     "start_time": "2024-06-11T17:56:12.793171800Z"
    }
   }
  },
  {
   "cell_type": "markdown",
   "metadata": {},
   "source": []
  },
  {
   "cell_type": "markdown",
   "metadata": {},
   "source": [
    "---"
   ]
  },
  {
   "cell_type": "markdown",
   "source": [
    "# Training\n",
    "\n",
    "After data preprocessing and buikding the model we need to train it. \n",
    "\n",
    "We'll use a [Kullback–Leibler divergence](https://en.wikipedia.org/wiki/Kullback%E2%80%93Leibler_divergence) as a loss function. \n",
    "KLDivergence is the widely used metric suggested by the scientists who worked on the best solutions for the HMS competition.\n",
    "\n",
    "We also use Adam optimizier - an adaptive learning rate optimization algorithm used in training deep learning models.\n",
    "\n",
    "It combines the advantages of two other extensions of stochastic gradient descent \n",
    "- (SGD): Adaptive Gradient Algorithm (AdaGrad) \n",
    "- Root Mean Square Propagation (RMSProp)\n",
    "\n",
    "It adjusts the learning rate for each parameter dynamically, making it efficient and well-suited for large datasets and complex models."
   ],
   "metadata": {
    "collapsed": false
   }
  },
  {
   "cell_type": "code",
   "execution_count": 15,
   "outputs": [],
   "source": [
    "from torch.optim import Adam\n",
    "\n",
    "# initialize the model and move it to gpu\n",
    "model = ConvModel().to(DEVICE)"
   ],
   "metadata": {
    "collapsed": false,
    "ExecuteTime": {
     "end_time": "2024-06-11T17:56:13.625481900Z",
     "start_time": "2024-06-11T17:56:12.801954600Z"
    }
   }
  },
  {
   "cell_type": "code",
   "execution_count": 16,
   "outputs": [],
   "source": [
    "softmax = nn.Softmax(1)\n",
    "log_softmax = lambda x: nn.functional.log_softmax(x,dim=1)"
   ],
   "metadata": {
    "collapsed": false,
    "ExecuteTime": {
     "end_time": "2024-06-11T17:56:13.640482100Z",
     "start_time": "2024-06-11T17:56:13.628484200Z"
    }
   }
  },
  {
   "cell_type": "code",
   "execution_count": 17,
   "outputs": [],
   "source": [
    "def rate_model(loader, loss_function, activation):\n",
    "    model.eval()\n",
    "    with torch.no_grad():\n",
    "        iteration = 0\n",
    "        total_loss = 0\n",
    "        for batch in loader:\n",
    "            # extract data and labels\n",
    "            batch_data, batch_labels = batch\n",
    "            batch_data = batch_data.to(DEVICE)\n",
    "            batch_labels = batch_labels.to(DEVICE)\n",
    "    \n",
    "            # perform the inference on the data\n",
    "            prediction = model(batch_data)\n",
    "            prediction = activation(prediction)\n",
    "    \n",
    "            # compare the inference output with real labels and calculate the value of loss function\n",
    "            loss = loss_function(prediction, batch_labels)\n",
    "    \n",
    "            # accumulate loss\n",
    "            total_loss += float(loss.item())\n",
    "    \n",
    "            iteration += 1\n",
    "    model.train()\n",
    "    return total_loss / iteration"
   ],
   "metadata": {
    "collapsed": false,
    "ExecuteTime": {
     "end_time": "2024-06-11T17:56:13.665483400Z",
     "start_time": "2024-06-11T17:56:13.641482700Z"
    }
   }
  },
  {
   "cell_type": "markdown",
   "source": [
    "## Pretraining 1 - regression"
   ],
   "metadata": {
    "collapsed": false
   }
  },
  {
   "cell_type": "code",
   "execution_count": 18,
   "metadata": {
    "collapsed": false,
    "ExecuteTime": {
     "end_time": "2024-06-11T17:56:13.673482300Z",
     "start_time": "2024-06-11T17:56:13.658482300Z"
    }
   },
   "outputs": [],
   "source": [
    "# Create an optimizer that will perform the gradient descent algorithm\n",
    "optimizer = Adam(model.parameters(), lr=1e-4)\n",
    "\n",
    "loss_function = nn.MSELoss()"
   ]
  },
  {
   "cell_type": "code",
   "execution_count": null,
   "metadata": {
    "collapsed": false,
    "is_executing": true,
    "ExecuteTime": {
     "start_time": "2024-06-11T17:56:13.676481600Z"
    }
   },
   "outputs": [
    {
     "name": "stdout",
     "output_type": "stream",
     "text": [
      "epoch : 0\n",
      "train loss : 0.08995196968317032\n",
      "valid loss : 0.08615538477897644\n",
      "\n",
      "epoch : 1\n",
      "train loss : 0.08300052081996745\n",
      "valid loss : 0.08118167626006263\n",
      "\n",
      "epoch : 2\n",
      "train loss : 0.08007561614116034\n",
      "valid loss : 0.08087311010985147\n",
      "\n",
      "epoch : 3\n",
      "train loss : 0.07578116086396304\n",
      "valid loss : 0.07752276176498049\n",
      "\n",
      "epoch : 4\n",
      "train loss : 0.07251161662015047\n",
      "valid loss : 0.0777854160183952\n",
      "\n",
      "epoch : 5\n",
      "train loss : 0.07010479068214243\n",
      "valid loss : 0.07524949596041725\n",
      "\n",
      "epoch : 6\n",
      "train loss : 0.06740692463336569\n",
      "valid loss : 0.0766282014193989\n",
      "\n",
      "epoch : 7\n",
      "train loss : 0.06474960358305411\n",
      "valid loss : 0.07696112671068736\n",
      "\n",
      "epoch : 8\n",
      "train loss : 0.06206686611879956\n",
      "valid loss : 0.078645924727122\n",
      "epoch : 9\n",
      "train loss : 0.05950098629250671\n",
      "valid loss : 0.07485842314504441\n",
      "\n",
      "epoch : 10\n",
      "train loss : 0.05641151601166436\n",
      "valid loss : 0.07537735998630524\n",
      "\n",
      "epoch : 11\n",
      "train loss : 0.05354363356124271\n",
      "valid loss : 0.07429902007182439\n",
      "\n"
     ]
    }
   ],
   "source": [
    "EPOCHS = 100\n",
    "\n",
    "model.train()\n",
    "\n",
    "# we train the network for EPOCHS epochs\n",
    "for epoch in range(EPOCHS):\n",
    "    # variables that will let us compute average epoch loss\n",
    "    iteration = 0\n",
    "    total_loss = 0\n",
    "    \n",
    "    train_losses_pretraining = []\n",
    "    valid_losses_pretraining = []\n",
    "    \n",
    "    y_noise = torch.normal(0,0.05,size=(1,6)).to(DEVICE)\n",
    "    \n",
    "    # iterate through data batches in the data loader\n",
    "    for batch in train_loader:\n",
    "        # extract data and labels\n",
    "        batch_data, batch_labels = batch\n",
    "        batch_data = batch_data.to(DEVICE)\n",
    "        batch_labels = batch_labels.to(DEVICE)\n",
    "\n",
    "        # perform the inference on the data\n",
    "        prediction = model(batch_data)\n",
    "        prediction = softmax(prediction)\n",
    "        \n",
    "        # compare the inference output with real labels and calculate the value of loss function\n",
    "        loss = loss_function(prediction, batch_labels + y_noise)\n",
    "\n",
    "        # accumulate loss to print the average at the end of the epoch\n",
    "        total_loss += float(loss.item())\n",
    "\n",
    "        # reset the optimizer\n",
    "        optimizer.zero_grad()\n",
    "\n",
    "        # compute the error backpropagation\n",
    "        loss.backward()\n",
    "\n",
    "        # update the weights of the model\n",
    "        optimizer.step()\n",
    "\n",
    "        iteration += 1\n",
    "        \n",
    "    train_losses_pretraining.append(total_loss / iteration)\n",
    "    valid_losses_pretraining.append(rate_model(valid_loader,loss_function,softmax))\n",
    "\n",
    "    print(f\"epoch : {epoch}\")\n",
    "    print(f\"train loss : {train_losses_pretraining[-1]}\")\n",
    "    print(f\"valid loss : {valid_losses_pretraining[-1]}\")\n",
    "    print(\"\\n\")"
   ]
  },
  {
   "cell_type": "code",
   "execution_count": null,
   "outputs": [],
   "source": [
    "from matplotlib import pyplot as plt\n",
    "\n",
    "os.makedirs(f\"{PROCESSED_DATA_DIR}/results\",exist_ok=True)\n",
    "\n",
    "torch.save(torch.tensor(train_losses_pretraining),f\"{PROCESSED_DATA_DIR}/results/train_losses_pretraining.pt\")\n",
    "torch.save(torch.tensor(valid_losses_pretraining),f\"{PROCESSED_DATA_DIR}/results/valid_losses_pretraining.pt\")\n",
    "\n",
    "plt.plot(train_losses_pretraining)\n",
    "plt.plot(valid_losses_pretraining)\n",
    "\n",
    "plt.tight_layout()\n",
    "plt.savefig(f\"{PROCESSED_DATA_DIR}/results/pretraining.pdf\")"
   ],
   "metadata": {
    "collapsed": false,
    "is_executing": true
   }
  },
  {
   "cell_type": "code",
   "execution_count": null,
   "outputs": [],
   "source": [
    "rate_model(test_loader,loss_function,softmax)"
   ],
   "metadata": {
    "collapsed": false,
    "is_executing": true
   }
  },
  {
   "cell_type": "markdown",
   "source": [
    "---"
   ],
   "metadata": {
    "collapsed": false
   }
  },
  {
   "cell_type": "markdown",
   "source": [
    "## Final training"
   ],
   "metadata": {
    "collapsed": false
   }
  },
  {
   "cell_type": "code",
   "execution_count": null,
   "outputs": [],
   "source": [
    "# Create an optimizer that will perform the gradient descent algorithm\n",
    "optimizer = Adam(model.parameters(), lr=1e-5)\n",
    "\n",
    "# As a loss function we'll be using KLDivergence\n",
    "# loss_function = nn.KLDivLoss(reduction=\"batchmean\", log_target=False)\n",
    "loss_function = nn.KLDivLoss(reduction=\"batchmean\",log_target=False)"
   ],
   "metadata": {
    "collapsed": false,
    "is_executing": true
   }
  },
  {
   "cell_type": "code",
   "execution_count": null,
   "outputs": [],
   "source": [
    "EPOCHS = 200\n",
    "\n",
    "model.train()\n",
    "\n",
    "# we train the network for EPOCHS epochs\n",
    "for epoch in range(EPOCHS):\n",
    "    # variables that will let us compute average epoch loss\n",
    "    iteration = 0\n",
    "    total_loss = 0\n",
    "\n",
    "    train_losses_training = []\n",
    "    valid_losses_training = []\n",
    "\n",
    "    # iterate through data batches in the data loader\n",
    "    for batch in train_loader:\n",
    "        # extract data and labels\n",
    "        batch_data, batch_labels = batch\n",
    "\n",
    "        # perform the inference on the data\n",
    "        prediction = model(batch_data)\n",
    "        batch_data = batch_data.to(DEVICE)\n",
    "        batch_labels = batch_labels.to(DEVICE)\n",
    "\n",
    "        # compare the inference output with real labels and calculate the value of loss function\n",
    "        loss = loss_function(nn.functional.log_softmax(prediction, dim=1), batch_labels)\n",
    "\n",
    "        # accumulate loss to print the average at the end of the epoch\n",
    "        total_loss += float(loss.item())\n",
    "\n",
    "        # reset the optimizer\n",
    "        optimizer.zero_grad()\n",
    "\n",
    "        # compute the error backpropagation\n",
    "        loss.backward()\n",
    "\n",
    "        # update the weights of the model\n",
    "        optimizer.step()\n",
    "\n",
    "        iteration += 1\n",
    "\n",
    "    train_losses_training.append(total_loss / iteration)\n",
    "    valid_losses_training.append(rate_model(valid_loader,loss_function,log_softmax))\n",
    "\n",
    "    print(f\"epoch : {epoch}\")\n",
    "    print(f\"train loss : {train_losses_training[-1]}\")\n",
    "    print(f\"valid loss : {valid_losses_training[-1]}\")\n",
    "    print(\"\\n\")\n",
    "    "
   ],
   "metadata": {
    "collapsed": false,
    "is_executing": true
   }
  },
  {
   "cell_type": "code",
   "execution_count": null,
   "outputs": [],
   "source": [
    "torch.save(torch.tensor(train_losses_training),f\"{PROCESSED_DATA_DIR}/results/train_losses_training.pt\")\n",
    "torch.save(torch.tensor(valid_losses_training),f\"{PROCESSED_DATA_DIR}/results/valid_losses_training.pt\")\n",
    "\n",
    "os.makedirs(f\"{PROCESSED_DATA_DIR}/results\")\n",
    "\n",
    "plt.plot(train_losses_training)\n",
    "plt.plot(valid_losses_training)\n",
    "\n",
    "plt.tight_layout()\n",
    "plt.savefig(f\"{PROCESSED_DATA_DIR}/results/training.pdf\")"
   ],
   "metadata": {
    "collapsed": false,
    "is_executing": true
   }
  },
  {
   "cell_type": "code",
   "execution_count": null,
   "outputs": [],
   "source": [
    "rate_model(test_loader,loss_function,log_softmax)"
   ],
   "metadata": {
    "collapsed": false,
    "is_executing": true
   }
  },
  {
   "cell_type": "code",
   "execution_count": null,
   "outputs": [],
   "source": [
    " "
   ],
   "metadata": {
    "collapsed": false,
    "is_executing": true
   }
  }
 ],
 "metadata": {
  "kaggle": {
   "accelerator": "nvidiaTeslaT4",
   "dataSources": [
    {
     "databundleVersionId": 7469972,
     "sourceId": 59093,
     "sourceType": "competition"
    },
    {
     "datasetId": 4317718,
     "sourceId": 7465251,
     "sourceType": "datasetVersion"
    },
    {
     "sourceId": 166350260,
     "sourceType": "kernelVersion"
    }
   ],
   "dockerImageVersionId": 30648,
   "isGpuEnabled": true,
   "isInternetEnabled": true,
   "language": "python",
   "sourceType": "notebook"
  },
  "kernelspec": {
   "display_name": "Python 3 (ipykernel)",
   "language": "python",
   "name": "python3"
  },
  "language_info": {
   "codemirror_mode": {
    "name": "ipython",
    "version": 3
   },
   "file_extension": ".py",
   "mimetype": "text/x-python",
   "name": "python",
   "nbconvert_exporter": "python",
   "pygments_lexer": "ipython3",
   "version": "3.10.0"
  }
 },
 "nbformat": 4,
 "nbformat_minor": 4
}
