{
 "cells": [
  {
   "cell_type": "markdown",
   "metadata": {},
   "source": []
  },
  {
   "cell_type": "markdown",
   "source": [
    "# HMS - harmful brain activity\n",
    "\n",
    "The aim of this project is to create and train a deep learning model that will detect harmful brain activity from EEG signal"
   ],
   "metadata": {
    "collapsed": false
   }
  },
  {
   "cell_type": "markdown",
   "metadata": {},
   "source": [
    "Libraries we're going to use\n",
    "\n",
    "`pandas` - a library for reading and processing data frames and input data files\n",
    "`numpy` - mathematical library for efficient multidimensional algebra and raw data processing\n",
    "`pytorch` - deep learning library and framework that allows for efficient data processing and neural network training using cpu or gpu\n",
    "`scikit-learn` - sklearn - Rich in functionality machine learning and data science library. Industry standard for ML\n",
    "`scipy` - scientific library including many mathematical tools. For example for signal processing\n",
    "`os` - operating system packet that allows for navigating in the file system from the level of python"
   ]
  },
  {
   "cell_type": "code",
   "execution_count": 1,
   "metadata": {
    "ExecuteTime": {
     "end_time": "2024-06-09T20:47:09.205728700Z",
     "start_time": "2024-06-09T20:47:07.931529400Z"
    }
   },
   "outputs": [],
   "source": [
    "import pandas as pd\n",
    "import numpy as np\n",
    "import torch\n",
    "import sklearn\n",
    "import scipy\n",
    "import os"
   ]
  },
  {
   "cell_type": "markdown",
   "source": [
    "We want to fully utilise our resources. We use `cuda` - a tool used by `pytorch` to perform computation on gpu - this way neural networks can be trained much faster"
   ],
   "metadata": {
    "collapsed": false
   }
  },
  {
   "cell_type": "code",
   "execution_count": 2,
   "outputs": [
    {
     "data": {
      "text/plain": "'cuda'"
     },
     "execution_count": 2,
     "metadata": {},
     "output_type": "execute_result"
    }
   ],
   "source": [
    "DEVICE = \"cuda\" if torch.cuda.is_available() else \"cpu\"\n",
    "DEVICE"
   ],
   "metadata": {
    "collapsed": false,
    "ExecuteTime": {
     "end_time": "2024-06-09T20:47:09.267728400Z",
     "start_time": "2024-06-09T20:47:09.229728100Z"
    }
   }
  },
  {
   "cell_type": "markdown",
   "metadata": {},
   "source": [
    "# Loading the data\n",
    "\n",
    "The data comes from [kaggle](https://www.kaggle.com/competitions/hms-harmful-brain-activity-classification) competition. \n",
    "\n",
    " It consists of `.parquet` files with eeg signal data as well as plotted spectrograms of the signals."
   ]
  },
  {
   "cell_type": "code",
   "execution_count": 3,
   "metadata": {
    "ExecuteTime": {
     "end_time": "2024-06-09T20:47:09.280728500Z",
     "start_time": "2024-06-09T20:47:09.238728400Z"
    }
   },
   "outputs": [],
   "source": [
    "# directory that contains data from kaggle hms\n",
    "INPUT_DATA_DIR = \"data\"\n",
    "\n",
    "# directory in which our npy files are/will be stored - this will allow for faster loading of the data later\n",
    "PROCESSED_DATA_DIR = \"processed_data\""
   ]
  },
  {
   "cell_type": "markdown",
   "metadata": {
    "execution": {
     "iopub.execute_input": "2024-03-09T14:46:01.191866Z",
     "iopub.status.busy": "2024-03-09T14:46:01.191481Z",
     "iopub.status.idle": "2024-03-09T14:46:01.205753Z",
     "shell.execute_reply": "2024-03-09T14:46:01.204294Z",
     "shell.execute_reply.started": "2024-03-09T14:46:01.191832Z"
    }
   },
   "source": [
    "The metadata is stored in train.csv and test.csv files"
   ]
  },
  {
   "cell_type": "code",
   "execution_count": 4,
   "metadata": {
    "ExecuteTime": {
     "end_time": "2024-06-09T20:47:09.316728700Z",
     "start_time": "2024-06-09T20:47:09.253728Z"
    }
   },
   "outputs": [],
   "source": [
    "train_meta_full = pd.read_csv(INPUT_DATA_DIR + \"/train.csv\")\n",
    "train_meta = train_meta_full.loc[train_meta_full[\"eeg_sub_id\"] == 0]\n",
    "\n",
    "test_meta = pd.read_csv(INPUT_DATA_DIR + \"/test.csv\")"
   ]
  },
  {
   "cell_type": "markdown",
   "metadata": {
    "collapsed": false
   },
   "source": [
    "Signal data tends to be very noisy. That's why it's important to filter the noise before processing the data further. For this we'll use the butterworth lowpass filter.\n",
    "\n",
    "Lowpass filter filters out high and noisy frequencies. It only allows the frequencies lower than specified to pass through it.\n",
    "\n",
    "The data is sampled at the frequency of 200Hz, we want to cut off noise frequencies higher than 20Hz"
   ]
  },
  {
   "cell_type": "code",
   "execution_count": 5,
   "metadata": {
    "collapsed": false,
    "ExecuteTime": {
     "end_time": "2024-06-09T20:47:09.349728300Z",
     "start_time": "2024-06-09T20:47:09.317728500Z"
    }
   },
   "outputs": [],
   "source": [
    "cutoff_freq = 20\n",
    "sampling_rate = 200\n",
    "order = 4\n",
    "lowcut = 0.5\n",
    "highcut = 20\n",
    "\n",
    "b, a = scipy.signal.butter(\n",
    "    order, (lowcut, highcut), btype=\"bandpass\", analog=False, fs=sampling_rate\n",
    ")"
   ]
  },
  {
   "cell_type": "markdown",
   "metadata": {
    "collapsed": false
   },
   "source": [
    "Extract `.parquet` data.\n",
    "\n",
    "The training data is stored in `.parquet` files as individual read values of separate electrodes placed on patient's head during EEG examination.\n",
    "\n",
    "Normally specialists don't analyze the separate signals but rather differences between the neighbouring electrodes. \n",
    "\n",
    "`extract_parquet` function computes those differences and creates time series of those differences as opposed to pure signal.\n",
    "\n",
    "Those differences are then processed with previously initialized lowpass filter, clipped so that their values are not too high and converted to pytorch tensor objects.\n",
    "\n",
    "We want to use pytorch tensors because it's the object class required to perform neural network training."
   ]
  },
  {
   "cell_type": "code",
   "execution_count": 6,
   "metadata": {
    "ExecuteTime": {
     "end_time": "2024-06-09T20:47:09.361728700Z",
     "start_time": "2024-06-09T20:47:09.350728800Z"
    }
   },
   "outputs": [],
   "source": [
    "# take a parquet dataframe and compute correct values for each column\n",
    "# we want columns such as \"Fp1-F7\" as can be seen in /example_figures\n",
    "def extract_parquet(parquet_data: torch.tensor):\n",
    "    parquet_data[\"Fp1-F7\"] = parquet_data[\"Fp1\"] - parquet_data[\"F7\"]\n",
    "    parquet_data[\"F7-T3\"] = parquet_data[\"F7\"] - parquet_data[\"T3\"]\n",
    "    parquet_data[\"T3-T5\"] = parquet_data[\"T3\"] - parquet_data[\"T5\"]\n",
    "    parquet_data[\"T5-O1\"] = parquet_data[\"T5\"] - parquet_data[\"O1\"]\n",
    "\n",
    "    parquet_data[\"Fp2-F8\"] = parquet_data[\"Fp2\"] - parquet_data[\"F8\"]\n",
    "    parquet_data[\"F8-T4\"] = parquet_data[\"F8\"] - parquet_data[\"T4\"]\n",
    "    parquet_data[\"T4-T6\"] = parquet_data[\"T4\"] - parquet_data[\"T6\"]\n",
    "    parquet_data[\"T6-O2\"] = parquet_data[\"T6\"] - parquet_data[\"O2\"]\n",
    "\n",
    "    parquet_data[\"Fp1-F3\"] = parquet_data[\"Fp1\"] - parquet_data[\"F3\"]\n",
    "    parquet_data[\"F3-C3\"] = parquet_data[\"F3\"] - parquet_data[\"C3\"]\n",
    "    parquet_data[\"C3-P3\"] = parquet_data[\"C3\"] - parquet_data[\"P3\"]\n",
    "    parquet_data[\"P3-O1\"] = parquet_data[\"P3\"] - parquet_data[\"O1\"]\n",
    "\n",
    "    parquet_data[\"Fp2-F4\"] = parquet_data[\"Fp2\"] - parquet_data[\"F4\"]\n",
    "    parquet_data[\"F4-C4\"] = parquet_data[\"F4\"] - parquet_data[\"C4\"]\n",
    "    parquet_data[\"C4-P4\"] = parquet_data[\"C4\"] - parquet_data[\"P4\"]\n",
    "    parquet_data[\"P4-O2\"] = parquet_data[\"P4\"] - parquet_data[\"O2\"]\n",
    "\n",
    "    parquet_data[\"Fz-Cz\"] = parquet_data[\"Fz\"] - parquet_data[\"Cz\"]\n",
    "    parquet_data[\"Cz-Pz\"] = parquet_data[\"Cz\"] - parquet_data[\"Pz\"]\n",
    "\n",
    "    parquet_data = parquet_data.drop(\n",
    "        [\n",
    "            \"Fp1\",\n",
    "            \"F3\",\n",
    "            \"C3\",\n",
    "            \"P3\",\n",
    "            \"F7\",\n",
    "            \"T3\",\n",
    "            \"T5\",\n",
    "            \"O1\",\n",
    "            \"Fz\",\n",
    "            \"Cz\",\n",
    "            \"Pz\",\n",
    "            \"Fp2\",\n",
    "            \"F4\",\n",
    "            \"C4\",\n",
    "            \"P4\",\n",
    "            \"F8\",\n",
    "            \"T4\",\n",
    "            \"T6\",\n",
    "            \"O2\",\n",
    "        ],\n",
    "        axis=1,\n",
    "    )\n",
    "\n",
    "    # we want to reorder the columns so that the EKG signal is at the end.\n",
    "    idx = parquet_data.columns[1:].to_list() + [parquet_data.columns[0]]\n",
    "\n",
    "    # we want to transpose the values so that they're easier to handle later\n",
    "    parquet_data = parquet_data[idx].values.T\n",
    "\n",
    "    # filter the high frequencies\n",
    "    parquet_data = scipy.signal.lfilter(b, a, parquet_data, axis=0)\n",
    "\n",
    "    # convert to pytorch tensor\n",
    "    parquet_data = torch.from_numpy(parquet_data).type(torch.float32)\n",
    "\n",
    "    # clip high values to 1024\n",
    "    parquet_data = torch.clip(parquet_data, -1024, 1024)\n",
    "\n",
    "    return parquet_data"
   ]
  },
  {
   "cell_type": "markdown",
   "metadata": {},
   "source": [
    "We need to extract the data from the `.parquet` files, so in a loop we'll iterate through the metadata and extract the data and the training labels."
   ]
  },
  {
   "cell_type": "code",
   "execution_count": 7,
   "metadata": {
    "collapsed": false,
    "ExecuteTime": {
     "end_time": "2024-06-09T20:47:12.322653100Z",
     "start_time": "2024-06-09T20:47:09.364728700Z"
    }
   },
   "outputs": [],
   "source": [
    "# A list for data entries from different files\n",
    "eeg_data = []\n",
    "\n",
    "# indices of the dataframes with too many missing values\n",
    "faulty_eeg_id = []\n",
    "\n",
    "if not os.path.exists(f\"{PROCESSED_DATA_DIR}/eeg_labels.pt\"):\n",
    "    os.makedirs(PROCESSED_DATA_DIR,exist_ok=True)\n",
    "    \n",
    "    # iterate through IDs of eeg and extract each .parquet file\n",
    "    for eeg_id in train_meta[\"eeg_id\"]:\n",
    "        # open the file using pandas\n",
    "        parquet_data = pd.read_parquet(INPUT_DATA_DIR + f\"/train_eegs/{eeg_id}.parquet\")\n",
    "\n",
    "        # fill the missing values and extract the first 10000 measurements\n",
    "        parquet_data = parquet_data.interpolate(method=\"ffill\")[:10000]\n",
    "\n",
    "        # If at this point there are any missing values, the file can't be used\n",
    "        if np.any(parquet_data.isna()):\n",
    "            faulty_eeg_id.append(eeg_id)\n",
    "            continue\n",
    "\n",
    "        # we call the preprocessing function\n",
    "        eeg = extract_parquet(parquet_data)\n",
    "\n",
    "        # and add the data to the list of processed entries\n",
    "        eeg_data.append(eeg)\n",
    "\n",
    "    # convert the list of tensors to one tensor\n",
    "    eeg_data = torch.stack(eeg_data)\n",
    "\n",
    "    # save to PROCESSED_DATA_TIR\n",
    "    torch.save(eeg_data, f\"{PROCESSED_DATA_DIR}/eeg_data.pt\")\n",
    "\n",
    "    # extract labels for valid entries\n",
    "    all_labels = train_meta.loc[~train_meta[\"eeg_id\"].isin(faulty_eeg_id)]\n",
    "    eeg_labels = all_labels[\n",
    "        [\"seizure_vote\", \"lpd_vote\", \"gpd_vote\", \"lrda_vote\", \"grda_vote\", \"other_vote\"]\n",
    "    ].values\n",
    "\n",
    "    # convert labels to pytorch tensor\n",
    "    eeg_labels = torch.tensor(np.array(eeg_labels), dtype=torch.float32)\n",
    "\n",
    "    # The labels are probability - they must sum to 1\n",
    "    eeg_labels = eeg_labels / eeg_labels.sum(dim=1, keepdims=True)\n",
    "\n",
    "    # save for easier training later\n",
    "    torch.save(eeg_labels, f\"{PROCESSED_DATA_DIR}/eeg_labels.pt\")\n",
    "else:\n",
    "    eeg_data = torch.load(f\"{PROCESSED_DATA_DIR}/eeg_data.pt\")\n",
    "    eeg_labels = torch.load(f\"{PROCESSED_DATA_DIR}/eeg_labels.pt\")"
   ]
  },
  {
   "cell_type": "code",
   "execution_count": 8,
   "outputs": [
    {
     "name": "stdout",
     "output_type": "stream",
     "text": [
      "torch.Size([17018, 19, 10000])\n",
      "torch.Size([17018, 6])\n"
     ]
    }
   ],
   "source": [
    "print(eeg_data.shape)\n",
    "print(eeg_labels.shape)"
   ],
   "metadata": {
    "collapsed": false,
    "ExecuteTime": {
     "end_time": "2024-06-09T20:47:12.343617400Z",
     "start_time": "2024-06-09T20:47:12.323651100Z"
    }
   }
  },
  {
   "cell_type": "markdown",
   "metadata": {},
   "source": [
    "---"
   ]
  },
  {
   "cell_type": "markdown",
   "metadata": {},
   "source": [
    "# Creating a data loader, preprocessing"
   ]
  },
  {
   "cell_type": "markdown",
   "metadata": {},
   "source": [
    "Setup global variables for dataloder and preprocessing"
   ]
  },
  {
   "cell_type": "code",
   "execution_count": 9,
   "metadata": {
    "ExecuteTime": {
     "end_time": "2024-06-09T20:47:12.384617700Z",
     "start_time": "2024-06-09T20:47:12.339617800Z"
    }
   },
   "outputs": [],
   "source": [
    "SAMPLING_FREQUENCY = 200\n",
    "SAMPLES_IN_MEASUREMENT = 10000\n",
    "FOLDS = 5\n",
    "BATCH_SIZE = 128\n",
    "NUM_WORKERS = 0"
   ]
  },
  {
   "cell_type": "markdown",
   "metadata": {},
   "source": [
    "Using scikit-learn we'll split the data into training and testing dataset"
   ]
  },
  {
   "cell_type": "code",
   "execution_count": 10,
   "metadata": {
    "collapsed": false,
    "ExecuteTime": {
     "end_time": "2024-06-09T20:47:13.519334400Z",
     "start_time": "2024-06-09T20:47:12.355618400Z"
    }
   },
   "outputs": [],
   "source": [
    "from sklearn.model_selection import train_test_split\n",
    "\n",
    "X_train, X_test, y_train, y_test = train_test_split(\n",
    "    eeg_data, eeg_labels, test_size=0.2\n",
    ")\n",
    "\n",
    "X_test, X_valid, y_test, y_valid = train_test_split(\n",
    "    X_test, y_test, test_size=0.5\n",
    ")"
   ]
  },
  {
   "cell_type": "markdown",
   "source": [
    "To perform the computation on gpu, we have to move the data into cuda"
   ],
   "metadata": {
    "collapsed": false
   }
  },
  {
   "cell_type": "code",
   "execution_count": 11,
   "metadata": {
    "collapsed": false,
    "ExecuteTime": {
     "end_time": "2024-06-09T20:47:16.492412200Z",
     "start_time": "2024-06-09T20:47:13.521335900Z"
    }
   },
   "outputs": [],
   "source": [
    "X_train, y_train = X_train.to(DEVICE), y_train.to(DEVICE)\n",
    "X_valid, y_valid = X_valid.to(DEVICE), y_valid.to(DEVICE)\n",
    "X_test, y_test = X_test.to(DEVICE), y_test.to(DEVICE)"
   ]
  },
  {
   "cell_type": "markdown",
   "metadata": {
    "collapsed": false
   },
   "source": [
    "Create a HMS dataset class that will help us load the data during the model training"
   ]
  },
  {
   "cell_type": "code",
   "execution_count": 12,
   "metadata": {
    "ExecuteTime": {
     "end_time": "2024-06-09T20:47:16.515412200Z",
     "start_time": "2024-06-09T20:47:16.493412600Z"
    }
   },
   "outputs": [],
   "source": [
    "from torch.utils.data import DataLoader, Dataset\n",
    "\n",
    "\n",
    "class CustomImageDataset(Dataset):\n",
    "    def __init__(self, X, y):\n",
    "        self.X = X\n",
    "        self.y = y\n",
    "\n",
    "    def __len__(self):\n",
    "        return len(self.y)\n",
    "\n",
    "    def __getitem__(self, idx):\n",
    "        return self.X[idx], self.y[idx]\n",
    "\n",
    "\n",
    "train_loader = DataLoader(\n",
    "    CustomImageDataset(X_train, y_train), batch_size=BATCH_SIZE, shuffle=True\n",
    ")\n",
    "\n",
    "test_loader = DataLoader(\n",
    "    CustomImageDataset(X_test, y_test), batch_size=BATCH_SIZE, shuffle=True\n",
    ")"
   ]
  },
  {
   "cell_type": "markdown",
   "metadata": {},
   "source": [
    "---"
   ]
  },
  {
   "cell_type": "markdown",
   "metadata": {},
   "source": [
    "# Creating a model\n",
    "\n",
    "We create a machine learning model - a python object that will be trained to predict correct data labels"
   ]
  },
  {
   "cell_type": "code",
   "execution_count": 13,
   "outputs": [],
   "source": [
    "import torch.nn as nn\n",
    "\n",
    "class ConvLSTM(nn.Module):\n",
    "    def __init__(self):\n",
    "        super(ConvLSTM, self).__init__()\n",
    "\n",
    "        # additionally to the previous approach we use convolution.\n",
    "        # It downsizes the input from shape (19, 10000) to (32, 2500)\n",
    "        self.conv = nn.Conv1d(19, 32, kernel_size=4, stride=4)\n",
    "\n",
    "        self.lstm = nn.LSTM(\n",
    "            input_size=32, hidden_size=50, num_layers=2, batch_first=True, dropout=0.0\n",
    "        )\n",
    "        self.flatten = nn.Flatten()\n",
    "        self.fc = nn.Linear(50, 6)\n",
    "        self.softmax = nn.Softmax(dim=1)\n",
    "\n",
    "    # input in CHW / CW format\n",
    "    def forward(self, x):\n",
    "        x = self.conv(x)\n",
    "\n",
    "        x = x.permute(0, 2, 1)  # (batch_size, seq_length, input_size)\n",
    "        x, _ = self.lstm(x)\n",
    "        x = x[:, -1, :]\n",
    "        x = self.flatten(x)\n",
    "        x = self.fc(x)\n",
    "        out = self.softmax(x)\n",
    "        return out"
   ],
   "metadata": {
    "collapsed": false,
    "ExecuteTime": {
     "end_time": "2024-06-09T20:47:16.530412Z",
     "start_time": "2024-06-09T20:47:16.510413700Z"
    }
   }
  },
  {
   "cell_type": "code",
   "execution_count": 14,
   "outputs": [],
   "source": [
    "class ConvModel(nn.Module):\n",
    "    def __init__(self):\n",
    "        super(ConvModel, self).__init__()\n",
    "\n",
    "        self.conv1 = nn.Sequential(\n",
    "            # (19, 10000)\n",
    "            nn.Conv1d(19, 76, kernel_size=5,padding=2,groups=19),\n",
    "            nn.MaxPool1d(2,ceil_mode=True),\n",
    "            nn.BatchNorm1d(76),\n",
    "        )\n",
    "        \n",
    "        self.conv2 = nn.Sequential(\n",
    "            # (64, 5000)\n",
    "            nn.Conv1d(76, 64, kernel_size=5,padding=2),\n",
    "            nn.MaxPool1d(2,ceil_mode=True),\n",
    "            nn.BatchNorm1d(64),\n",
    "        )\n",
    "        \n",
    "        self.conv3 = nn.Sequential(\n",
    "            # (64, 5000)\n",
    "            nn.Conv1d(64, 64, kernel_size=5,padding=2),\n",
    "            nn.MaxPool1d(2,ceil_mode=True),\n",
    "            nn.BatchNorm1d(64),\n",
    "        )\n",
    "        \n",
    "        self.conv4 = nn.Sequential(\n",
    "            # (64, 1250)\n",
    "            nn.Conv1d(64, 32, kernel_size=3,padding=1),\n",
    "            nn.MaxPool1d(2,ceil_mode=True),\n",
    "            nn.BatchNorm1d(32),\n",
    "            # (64,625)\n",
    "        )\n",
    "\n",
    "        \n",
    "        self.mlp = nn.Sequential(\n",
    "            nn.Flatten(),\n",
    "            nn.Dropout(0.5),\n",
    "            \n",
    "            nn.Linear(20000,4096),\n",
    "            nn.Dropout(0.5),\n",
    "            nn.ReLU(inplace=True),\n",
    "            \n",
    "            nn.Linear(4096,4096),\n",
    "            nn.Dropout(0.5),\n",
    "            nn.ReLU(inplace=True),\n",
    "            \n",
    "            nn.Linear(4096, 6),\n",
    "            \n",
    "        )      \n",
    "        \n",
    "        self.softmax = nn.Softmax(1)\n",
    "        self.relu = nn.ReLU()\n",
    "\n",
    "    # input in CHW / CW format\n",
    "    def forward(self, x):\n",
    "        x = self.conv1(x)\n",
    "        x = self.conv2(x)\n",
    "        x = self.conv3(x)\n",
    "        x = self.conv4(x)\n",
    "        x = self.mlp(x)\n",
    "        return x"
   ],
   "metadata": {
    "collapsed": false,
    "ExecuteTime": {
     "end_time": "2024-06-09T20:47:16.542413100Z",
     "start_time": "2024-06-09T20:47:16.528413400Z"
    }
   }
  },
  {
   "cell_type": "markdown",
   "metadata": {},
   "source": []
  },
  {
   "cell_type": "markdown",
   "metadata": {},
   "source": [
    "---"
   ]
  },
  {
   "cell_type": "markdown",
   "source": [
    "# Training\n",
    "\n",
    "After data preprocessing and buikding the model we need to train it. \n",
    "\n",
    "We'll use a [Kullback–Leibler divergence](https://en.wikipedia.org/wiki/Kullback%E2%80%93Leibler_divergence) as a loss function. \n",
    "KLDivergence is the widely used metric suggested by the scientists who worked on the best solutions for the HMS competition.\n",
    "\n",
    "We also use Adam optimizier - an adaptive learning rate optimization algorithm used in training deep learning models.\n",
    "\n",
    "It combines the advantages of two other extensions of stochastic gradient descent \n",
    "- (SGD): Adaptive Gradient Algorithm (AdaGrad) \n",
    "- Root Mean Square Propagation (RMSProp)\n",
    "\n",
    "It adjusts the learning rate for each parameter dynamically, making it efficient and well-suited for large datasets and complex models."
   ],
   "metadata": {
    "collapsed": false
   }
  },
  {
   "cell_type": "code",
   "execution_count": 15,
   "outputs": [],
   "source": [
    "from torch.optim import Adam\n",
    "\n",
    "# initialize the model and move it to gpu\n",
    "model = ConvModel().to(DEVICE)"
   ],
   "metadata": {
    "collapsed": false,
    "ExecuteTime": {
     "end_time": "2024-06-09T20:47:16.865056300Z",
     "start_time": "2024-06-09T20:47:16.539412700Z"
    }
   }
  },
  {
   "cell_type": "markdown",
   "source": [
    "## Pretraining 1 - regression"
   ],
   "metadata": {
    "collapsed": false
   }
  },
  {
   "cell_type": "code",
   "execution_count": 25,
   "metadata": {
    "collapsed": false,
    "ExecuteTime": {
     "end_time": "2024-06-09T20:55:31.158211Z",
     "start_time": "2024-06-09T20:55:31.155211600Z"
    }
   },
   "outputs": [],
   "source": [
    "# Create an optimizer that will perform the gradient descent algorithm\n",
    "optimizer = Adam(model.parameters(), lr=1e-4)\n",
    "\n",
    "loss_function = nn.MSELoss()"
   ]
  },
  {
   "cell_type": "code",
   "execution_count": 17,
   "metadata": {
    "collapsed": false,
    "ExecuteTime": {
     "end_time": "2024-06-09T20:54:49.827461Z",
     "start_time": "2024-06-09T20:47:16.881057Z"
    }
   },
   "outputs": [
    {
     "name": "stdout",
     "output_type": "stream",
     "text": [
      "epoch : 0\n",
      "0.09436011955002759\n",
      "\n",
      "epoch : 1\n",
      "0.09019787581724541\n",
      "\n",
      "epoch : 2\n",
      "0.08584850622671787\n",
      "\n",
      "epoch : 3\n",
      "0.08334708213806152\n",
      "\n",
      "epoch : 4\n",
      "0.0803232243127912\n",
      "\n",
      "epoch : 5\n",
      "0.07839944499118306\n",
      "\n",
      "epoch : 6\n",
      "0.07725453199209453\n",
      "\n",
      "epoch : 7\n",
      "0.07429398453542005\n",
      "\n",
      "epoch : 8\n",
      "0.07142826281139784\n",
      "\n",
      "epoch : 9\n",
      "0.06966278193710006\n",
      "\n",
      "epoch : 10\n",
      "0.06745296542611078\n",
      "\n",
      "epoch : 11\n",
      "0.06437462439464632\n",
      "\n",
      "epoch : 12\n",
      "0.06312259610428989\n",
      "\n",
      "epoch : 13\n",
      "0.0598345992512235\n",
      "\n",
      "epoch : 14\n",
      "0.05747279827700597\n",
      "\n",
      "epoch : 15\n",
      "0.05428983821211574\n",
      "\n",
      "epoch : 16\n",
      "0.051708536344432385\n",
      "\n",
      "epoch : 17\n",
      "0.04822789522531991\n",
      "\n",
      "epoch : 18\n",
      "0.04640864577388095\n",
      "\n",
      "epoch : 19\n",
      "0.04418839578664748\n",
      "\n",
      "epoch : 20\n",
      "0.04208153348729432\n",
      "\n",
      "epoch : 21\n",
      "0.039213916286826134\n",
      "\n",
      "epoch : 22\n",
      "0.03659745765345119\n",
      "\n",
      "epoch : 23\n",
      "0.035120620557637976\n",
      "\n",
      "epoch : 24\n",
      "0.033166955790926364\n",
      "\n",
      "epoch : 25\n",
      "0.03238788318480844\n",
      "\n",
      "epoch : 26\n",
      "0.03020045262213065\n",
      "\n",
      "epoch : 27\n",
      "0.028964919290531462\n",
      "\n",
      "epoch : 28\n",
      "0.02705704288504948\n",
      "\n",
      "epoch : 29\n",
      "0.026324582059876384\n",
      "\n",
      "epoch : 30\n",
      "0.025258804627946604\n",
      "\n",
      "epoch : 31\n",
      "0.024038288289698485\n",
      "\n",
      "epoch : 32\n",
      "0.02229794368983429\n",
      "\n",
      "epoch : 33\n",
      "0.02104882993430735\n",
      "\n",
      "epoch : 34\n",
      "0.021288655715707306\n",
      "\n",
      "epoch : 35\n",
      "0.022067685158940677\n",
      "\n",
      "epoch : 36\n",
      "0.019813141211101386\n",
      "\n",
      "epoch : 37\n",
      "0.01868505236283641\n",
      "\n",
      "epoch : 38\n",
      "0.018226992147408912\n",
      "\n",
      "epoch : 39\n",
      "0.019235055031968613\n",
      "\n",
      "epoch : 40\n",
      "0.017479696929037013\n",
      "\n",
      "epoch : 41\n",
      "0.017214553865873925\n",
      "\n",
      "epoch : 42\n",
      "0.01608504874579539\n",
      "\n",
      "epoch : 43\n",
      "0.01547766625707116\n",
      "\n",
      "epoch : 44\n",
      "0.015434764012276569\n",
      "\n",
      "epoch : 45\n",
      "0.015112067085351342\n",
      "\n",
      "epoch : 46\n",
      "0.014320916400473808\n",
      "\n",
      "epoch : 47\n",
      "0.013698738251125143\n",
      "\n",
      "epoch : 48\n",
      "0.01344962872860727\n",
      "\n",
      "epoch : 49\n",
      "0.013326688652214046\n",
      "\n",
      "epoch : 50\n",
      "0.01288092336138693\n",
      "\n",
      "epoch : 51\n",
      "0.01221656011608995\n",
      "\n",
      "epoch : 52\n",
      "0.01314130660459817\n",
      "\n",
      "epoch : 53\n",
      "0.012283305028261983\n",
      "\n",
      "epoch : 54\n",
      "0.012083062902092934\n",
      "\n",
      "epoch : 55\n",
      "0.011156402658845219\n",
      "\n",
      "epoch : 56\n",
      "0.011302248522569643\n",
      "\n",
      "epoch : 57\n",
      "0.010963288244625953\n",
      "\n",
      "epoch : 58\n",
      "0.01059663716581798\n",
      "\n",
      "epoch : 59\n",
      "0.01012425057189626\n",
      "\n",
      "epoch : 60\n",
      "0.010061494183561233\n",
      "\n",
      "epoch : 61\n",
      "0.010067249060756414\n",
      "\n",
      "epoch : 62\n",
      "0.009951876441591253\n",
      "\n",
      "epoch : 63\n",
      "0.0093396751984745\n",
      "\n",
      "epoch : 64\n",
      "0.009239625777596626\n",
      "\n",
      "epoch : 65\n",
      "0.00886438281284036\n",
      "\n",
      "epoch : 66\n",
      "0.008948125125770675\n",
      "\n",
      "epoch : 67\n",
      "0.00864458403106187\n",
      "\n",
      "epoch : 68\n",
      "0.008133144248451027\n",
      "\n",
      "epoch : 69\n",
      "0.007915059235121044\n",
      "\n",
      "epoch : 70\n",
      "0.00790003278710505\n",
      "\n",
      "epoch : 71\n",
      "0.007832834488390205\n",
      "\n",
      "epoch : 72\n",
      "0.007678235589448258\n",
      "\n",
      "epoch : 73\n",
      "0.00765347589573292\n",
      "\n",
      "epoch : 74\n",
      "0.007501374207715565\n",
      "\n",
      "epoch : 75\n",
      "0.0073170884790891245\n",
      "\n",
      "epoch : 76\n",
      "0.007477867939274445\n",
      "\n",
      "epoch : 77\n",
      "0.007215112595705785\n",
      "\n",
      "epoch : 78\n",
      "0.00735512542512233\n",
      "\n",
      "epoch : 79\n",
      "0.00728696635184444\n",
      "\n",
      "epoch : 80\n",
      "0.00734738388673237\n",
      "\n",
      "epoch : 81\n",
      "0.00673140558440273\n",
      "\n",
      "epoch : 82\n",
      "0.00668616382901287\n",
      "\n",
      "epoch : 83\n",
      "0.007133132543101489\n",
      "\n",
      "epoch : 84\n",
      "0.00670173687634067\n",
      "\n",
      "epoch : 85\n",
      "0.006747018689481176\n",
      "\n",
      "epoch : 86\n",
      "0.0067286645954422585\n",
      "\n",
      "epoch : 87\n",
      "0.006262877758017906\n",
      "\n",
      "epoch : 88\n",
      "0.006342778358799971\n",
      "\n",
      "epoch : 89\n",
      "0.006216107656587368\n",
      "\n",
      "epoch : 90\n",
      "0.006441810346756862\n",
      "\n",
      "epoch : 91\n",
      "0.006313396730921536\n",
      "\n",
      "epoch : 92\n",
      "0.006284614171937247\n",
      "\n",
      "epoch : 93\n",
      "0.005699559123577358\n",
      "\n",
      "epoch : 94\n",
      "0.005742136717591191\n",
      "\n",
      "epoch : 95\n",
      "0.005725157934580451\n",
      "\n",
      "epoch : 96\n",
      "0.0060123502577124075\n",
      "\n",
      "epoch : 97\n",
      "0.005433288820644962\n",
      "\n",
      "epoch : 98\n",
      "0.005779931034509824\n",
      "\n",
      "epoch : 99\n",
      "0.005298805423080921\n"
     ]
    }
   ],
   "source": [
    "EPOCHS = 100\n",
    "\n",
    "model.train()\n",
    "\n",
    "# we train the network for EPOCHS epochs\n",
    "for epoch in range(EPOCHS):\n",
    "    # variables that will let us compute average epoch loss\n",
    "    iteration = 0\n",
    "    total_loss = 0\n",
    "    \n",
    "    loss_values_pretraining = []\n",
    "    \n",
    "    # iterate through data batches in the data loader\n",
    "    for batch in train_loader:\n",
    "        # extract data and labels\n",
    "        batch_data, batch_labels = batch\n",
    "\n",
    "        # perform the inference on the data\n",
    "        prediction = model(batch_data)\n",
    "        prediction = model.softmax(prediction) - 0.01 # if we don't do this the model will try to reach -inf\n",
    "        \n",
    "        # compare the inference output with real labels and calculate the value of loss function\n",
    "        loss = loss_function(prediction, batch_labels)\n",
    "        # print(loss.item())\n",
    "\n",
    "        # accumulate loss to print the average at the end of the epoch\n",
    "        total_loss += float(loss.item())\n",
    "\n",
    "        # reset the optimizer\n",
    "        optimizer.zero_grad()\n",
    "\n",
    "        # compute the error backpropagation\n",
    "        loss.backward()\n",
    "\n",
    "        # update the weights of the model\n",
    "        optimizer.step()\n",
    "\n",
    "        iteration += 1\n",
    "        \n",
    "    loss_values_pretraining.append(total_loss / iteration)\n",
    "\n",
    "    # scheduler.step()\n",
    "    print(f\"epoch : {epoch}\")\n",
    "    print(total_loss / iteration)\n",
    "    print(\"\\n\")\n"
   ]
  },
  {
   "cell_type": "markdown",
   "metadata": {
    "execution": {
     "iopub.execute_input": "2024-03-10T16:13:47.666559Z",
     "iopub.status.busy": "2024-03-10T16:13:47.666106Z",
     "iopub.status.idle": "2024-03-10T16:13:47.673670Z",
     "shell.execute_reply": "2024-03-10T16:13:47.672143Z",
     "shell.execute_reply.started": "2024-03-10T16:13:47.666526Z"
    }
   },
   "source": [
    "---"
   ]
  },
  {
   "cell_type": "code",
   "execution_count": 26,
   "outputs": [
    {
     "name": "stdout",
     "output_type": "stream",
     "text": [
      "0.12271077292306083\n"
     ]
    }
   ],
   "source": [
    "model.eval()\n",
    "with torch.no_grad():\n",
    "    iteration = 0\n",
    "    total_loss = 0\n",
    "    for batch in test_loader:\n",
    "        # extract data and labels\n",
    "        batch_data, batch_labels = batch\n",
    "\n",
    "        # perform the inference on the data\n",
    "        prediction = model(batch_data)\n",
    "        prediction = model.softmax(prediction) - 0.01\n",
    "\n",
    "        # compare the inference output with real labels and calculate the value of loss function\n",
    "        loss = loss_function(prediction, batch_labels)\n",
    "\n",
    "        # accumulate loss\n",
    "        total_loss += float(loss.item())\n",
    "\n",
    "        iteration += 1\n",
    "\n",
    "print(total_loss / iteration)"
   ],
   "metadata": {
    "collapsed": false,
    "ExecuteTime": {
     "end_time": "2024-06-09T20:55:33.399640800Z",
     "start_time": "2024-06-09T20:55:33.051050300Z"
    }
   }
  },
  {
   "cell_type": "markdown",
   "source": [
    "## Final training"
   ],
   "metadata": {
    "collapsed": false
   }
  },
  {
   "cell_type": "code",
   "execution_count": 27,
   "outputs": [],
   "source": [
    "# Create an optimizer that will perform the gradient descent algorithm\n",
    "optimizer = Adam(model.parameters(), lr=1e-4)\n",
    "\n",
    "# As a loss function we'll be using KLDivergence\n",
    "# loss_function = nn.KLDivLoss(reduction=\"batchmean\", log_target=False)\n",
    "loss_function = nn.KLDivLoss(reduction=\"batchmean\",log_target=False)"
   ],
   "metadata": {
    "collapsed": false,
    "ExecuteTime": {
     "end_time": "2024-06-09T20:55:35.355589600Z",
     "start_time": "2024-06-09T20:55:35.340590500Z"
    }
   }
  },
  {
   "cell_type": "code",
   "execution_count": 28,
   "outputs": [
    {
     "name": "stdout",
     "output_type": "stream",
     "text": [
      "epoch : 0\n",
      "0.8953740162270092\n",
      "\n",
      "epoch : 1\n",
      "0.8950556917725322\n"
     ]
    },
    {
     "ename": "KeyboardInterrupt",
     "evalue": "",
     "output_type": "error",
     "traceback": [
      "\u001B[1;31m---------------------------------------------------------------------------\u001B[0m",
      "\u001B[1;31mKeyboardInterrupt\u001B[0m                         Traceback (most recent call last)",
      "Cell \u001B[1;32mIn[28], line 30\u001B[0m\n\u001B[0;32m     26\u001B[0m loss \u001B[38;5;241m=\u001B[39m loss_function(nn\u001B[38;5;241m.\u001B[39mfunctional\u001B[38;5;241m.\u001B[39mlog_softmax(prediction, dim\u001B[38;5;241m=\u001B[39m\u001B[38;5;241m1\u001B[39m), batch_labels)\n\u001B[0;32m     27\u001B[0m \u001B[38;5;66;03m# print(loss.item())\u001B[39;00m\n\u001B[0;32m     28\u001B[0m \n\u001B[0;32m     29\u001B[0m \u001B[38;5;66;03m# accumulate loss to print the average at the end of the epoch\u001B[39;00m\n\u001B[1;32m---> 30\u001B[0m total_loss \u001B[38;5;241m+\u001B[39m\u001B[38;5;241m=\u001B[39m \u001B[38;5;28;43mfloat\u001B[39;49m\u001B[43m(\u001B[49m\u001B[43mloss\u001B[49m\u001B[38;5;241;43m.\u001B[39;49m\u001B[43mitem\u001B[49m\u001B[43m(\u001B[49m\u001B[43m)\u001B[49m\u001B[43m)\u001B[49m\n\u001B[0;32m     32\u001B[0m \u001B[38;5;66;03m# reset the optimizer\u001B[39;00m\n\u001B[0;32m     33\u001B[0m optimizer\u001B[38;5;241m.\u001B[39mzero_grad()\n",
      "\u001B[1;31mKeyboardInterrupt\u001B[0m: "
     ]
    }
   ],
   "source": [
    "EPOCHS = 200\n",
    "\n",
    "model.train()\n",
    "\n",
    "# we train the network for EPOCHS epochs\n",
    "for epoch in range(EPOCHS):\n",
    "    # variables that will let us compute average epoch loss\n",
    "    iteration = 0\n",
    "    total_loss = 0\n",
    "\n",
    "    loss_values = []\n",
    "\n",
    "    # iterate through data batches in the data loader\n",
    "    for batch in train_loader:\n",
    "        # extract data and labels\n",
    "        batch_data, batch_labels = batch\n",
    "\n",
    "        # perform the inference on the data\n",
    "        prediction = model(batch_data)\n",
    "        prediction = model.softmax(prediction)\n",
    "        prediction = prediction - 0.02\n",
    "        prediction = model.relu(prediction)\n",
    "        prediction = prediction / prediction.sum(axis=-1,keepdims=True)\n",
    "\n",
    "        # compare the inference output with real labels and calculate the value of loss function\n",
    "        loss = loss_function(nn.functional.log_softmax(prediction, dim=1), batch_labels)\n",
    "        # print(loss.item())\n",
    "\n",
    "        # accumulate loss to print the average at the end of the epoch\n",
    "        total_loss += float(loss.item())\n",
    "\n",
    "        # reset the optimizer\n",
    "        optimizer.zero_grad()\n",
    "\n",
    "        # compute the error backpropagation\n",
    "        loss.backward()\n",
    "\n",
    "        # update the weights of the model\n",
    "        optimizer.step()\n",
    "\n",
    "        iteration += 1\n",
    "\n",
    "    loss_values.append(total_loss / iteration)\n",
    "\n",
    "    # scheduler.step()\n",
    "    print(f\"epoch : {epoch}\")\n",
    "    print(total_loss / iteration)\n",
    "    print(\"\\n\")"
   ],
   "metadata": {
    "collapsed": false,
    "ExecuteTime": {
     "end_time": "2024-06-09T20:55:49.262047200Z",
     "start_time": "2024-06-09T20:55:36.009157300Z"
    }
   }
  },
  {
   "cell_type": "code",
   "execution_count": null,
   "outputs": [],
   "source": [
    "model.eval()\n",
    "with torch.no_grad():\n",
    "    iteration = 0\n",
    "    total_loss = 0\n",
    "    for batch in test_loader:\n",
    "        # extract data and labels\n",
    "        batch_data, batch_labels = batch\n",
    "\n",
    "        # perform the inference on the data\n",
    "        prediction = model(batch_data)\n",
    "        prediction = model(batch_data)\n",
    "        prediction = model.softmax(prediction)\n",
    "        prediction = prediction - 0.02\n",
    "        prediction = model.relu(prediction)\n",
    "        prediction = prediction / prediction.sum(axis=-1,keepdims=True)\n",
    "\n",
    "        # compare the inference output with real labels and calculate the value of loss function\n",
    "        loss = loss_function(nn.functional.log_softmax(prediction, dim=1), batch_labels)\n",
    "\n",
    "        # accumulate loss\n",
    "        total_loss += float(loss.item())\n",
    "\n",
    "        iteration += 1\n",
    "\n",
    "print(total_loss / iteration)"
   ],
   "metadata": {
    "collapsed": false,
    "ExecuteTime": {
     "start_time": "2024-06-09T20:55:49.259047200Z"
    }
   }
  },
  {
   "cell_type": "code",
   "execution_count": 30,
   "outputs": [
    {
     "data": {
      "text/plain": "tensor([[0.0000, 0.0000, 0.0000, 0.0000, 0.0000, 1.0000],\n        [0.0000, 0.0000, 0.0000, 0.0000, 0.0000, 1.0000],\n        [0.0000, 0.0000, 0.0000, 0.0000, 0.0000, 1.0000],\n        [0.0000, 0.0000, 0.0000, 0.0000, 0.0000, 1.0000],\n        [0.0000, 0.0000, 0.0000, 0.0000, 0.0000, 1.0000],\n        [0.0000, 0.0000, 0.0000, 1.0000, 0.0000, 0.0000],\n        [0.0000, 0.0000, 0.0000, 0.7026, 0.0000, 0.2974],\n        [0.0000, 0.0000, 0.0000, 0.0000, 0.0000, 1.0000],\n        [0.0000, 0.0000, 0.0000, 0.0000, 0.0000, 1.0000],\n        [0.0000, 0.0000, 0.0000, 0.0000, 0.0000, 1.0000],\n        [0.0000, 0.0000, 0.0000, 0.0000, 0.0000, 1.0000],\n        [0.9479, 0.0000, 0.0000, 0.0000, 0.0000, 0.0521],\n        [0.0000, 0.0000, 0.0000, 0.0000, 0.0000, 1.0000],\n        [0.0000, 0.0000, 0.0000, 0.0000, 1.0000, 0.0000],\n        [0.0000, 0.0000, 0.0000, 0.0000, 0.0000, 1.0000],\n        [0.0000, 0.0000, 0.0000, 0.0000, 0.0000, 1.0000],\n        [0.0000, 1.0000, 0.0000, 0.0000, 0.0000, 0.0000],\n        [0.0000, 1.0000, 0.0000, 0.0000, 0.0000, 0.0000],\n        [0.0000, 0.0079, 0.0000, 0.0000, 0.0000, 0.9921],\n        [0.0926, 0.0000, 0.0000, 0.0000, 0.6279, 0.2794],\n        [0.0000, 0.0000, 0.0000, 0.0000, 0.0000, 1.0000],\n        [1.0000, 0.0000, 0.0000, 0.0000, 0.0000, 0.0000],\n        [0.0000, 0.0000, 0.0000, 0.0000, 0.0000, 1.0000],\n        [0.0000, 0.0000, 0.0000, 0.0067, 0.0000, 0.9933],\n        [0.0000, 0.0000, 0.0000, 0.0000, 0.0000, 1.0000],\n        [0.0000, 0.0000, 0.0000, 0.0000, 0.0000, 1.0000],\n        [0.0000, 1.0000, 0.0000, 0.0000, 0.0000, 0.0000],\n        [0.0000, 0.0000, 1.0000, 0.0000, 0.0000, 0.0000],\n        [0.0000, 1.0000, 0.0000, 0.0000, 0.0000, 0.0000],\n        [0.0000, 0.0000, 0.0000, 0.0000, 0.0000, 1.0000],\n        [0.0000, 0.0000, 0.0000, 0.0000, 0.9183, 0.0817],\n        [0.0000, 0.0000, 0.0000, 0.0000, 0.0000, 1.0000],\n        [0.0000, 0.0000, 0.0000, 0.0000, 0.0000, 1.0000],\n        [0.0000, 0.0000, 0.0000, 0.0000, 0.0000, 1.0000],\n        [0.9984, 0.0000, 0.0000, 0.0000, 0.0000, 0.0016],\n        [0.0000, 0.0166, 0.9834, 0.0000, 0.0000, 0.0000],\n        [0.0000, 0.0000, 0.0000, 0.0000, 0.0000, 1.0000],\n        [0.0000, 0.0000, 1.0000, 0.0000, 0.0000, 0.0000],\n        [0.0000, 0.0000, 0.0000, 0.0000, 1.0000, 0.0000],\n        [0.0000, 0.0000, 0.0000, 0.0000, 0.0000, 1.0000],\n        [0.0000, 0.0000, 0.0000, 0.0000, 1.0000, 0.0000],\n        [0.0000, 0.0000, 0.0000, 0.0438, 0.0000, 0.9562],\n        [1.0000, 0.0000, 0.0000, 0.0000, 0.0000, 0.0000],\n        [0.0000, 0.0000, 1.0000, 0.0000, 0.0000, 0.0000],\n        [0.0000, 0.0000, 0.0000, 0.0000, 0.0000, 1.0000],\n        [0.0000, 0.0000, 0.0000, 0.0000, 0.6218, 0.3782],\n        [0.0000, 1.0000, 0.0000, 0.0000, 0.0000, 0.0000],\n        [0.0000, 0.0000, 0.0000, 0.0000, 0.0000, 1.0000],\n        [0.0000, 0.0000, 1.0000, 0.0000, 0.0000, 0.0000],\n        [0.0000, 0.0000, 1.0000, 0.0000, 0.0000, 0.0000],\n        [0.0000, 0.0000, 0.0000, 0.0000, 0.0000, 1.0000],\n        [0.0000, 0.0000, 0.0000, 0.3541, 0.0012, 0.6447],\n        [0.0000, 0.0000, 0.0000, 0.0000, 0.0000, 1.0000],\n        [0.0000, 1.0000, 0.0000, 0.0000, 0.0000, 0.0000],\n        [1.0000, 0.0000, 0.0000, 0.0000, 0.0000, 0.0000],\n        [0.0000, 0.0000, 0.0000, 0.0000, 0.0000, 1.0000],\n        [0.9676, 0.0000, 0.0000, 0.0000, 0.0174, 0.0151],\n        [0.0000, 0.0000, 0.0000, 0.0000, 0.0000, 1.0000],\n        [0.0000, 0.0000, 0.0000, 0.0000, 0.0000, 1.0000],\n        [0.0000, 0.0000, 0.0000, 0.0000, 0.0000, 1.0000],\n        [0.0000, 0.0000, 0.0000, 0.0000, 0.0000, 1.0000],\n        [0.0000, 0.0000, 0.0000, 0.0000, 0.0000, 1.0000],\n        [1.0000, 0.0000, 0.0000, 0.0000, 0.0000, 0.0000],\n        [0.0000, 0.0000, 0.0000, 0.0000, 0.0000, 1.0000],\n        [1.0000, 0.0000, 0.0000, 0.0000, 0.0000, 0.0000],\n        [1.0000, 0.0000, 0.0000, 0.0000, 0.0000, 0.0000],\n        [0.0000, 0.0000, 0.0000, 0.0000, 0.0000, 1.0000],\n        [0.0000, 0.0000, 0.0000, 0.0000, 0.0000, 1.0000],\n        [0.0000, 0.0000, 1.0000, 0.0000, 0.0000, 0.0000],\n        [0.0000, 0.0000, 0.0000, 0.0000, 1.0000, 0.0000],\n        [0.8678, 0.0000, 0.0000, 0.0000, 0.0000, 0.1322],\n        [0.0000, 0.0000, 1.0000, 0.0000, 0.0000, 0.0000],\n        [0.0000, 0.0000, 0.0000, 0.0000, 1.0000, 0.0000],\n        [0.0000, 1.0000, 0.0000, 0.0000, 0.0000, 0.0000],\n        [0.0000, 0.0000, 0.0000, 0.0000, 0.0000, 1.0000],\n        [0.0000, 0.0000, 0.0000, 0.0000, 0.0000, 1.0000],\n        [0.0000, 1.0000, 0.0000, 0.0000, 0.0000, 0.0000],\n        [0.0000, 0.0000, 0.0000, 0.0000, 0.9448, 0.0552],\n        [0.5992, 0.0000, 0.0000, 0.0000, 0.0587, 0.3421],\n        [0.0000, 0.0000, 0.0000, 0.0000, 1.0000, 0.0000],\n        [0.0000, 1.0000, 0.0000, 0.0000, 0.0000, 0.0000],\n        [0.0000, 0.0000, 0.0000, 0.0000, 0.0000, 1.0000],\n        [0.0000, 0.0000, 0.0000, 0.0000, 0.0000, 1.0000],\n        [0.0000, 0.0000, 0.0000, 0.0000, 0.0000, 1.0000],\n        [0.0000, 1.0000, 0.0000, 0.0000, 0.0000, 0.0000],\n        [0.0000, 0.0000, 1.0000, 0.0000, 0.0000, 0.0000],\n        [0.0000, 0.0000, 0.0000, 0.0000, 0.0000, 1.0000],\n        [0.0000, 1.0000, 0.0000, 0.0000, 0.0000, 0.0000],\n        [1.0000, 0.0000, 0.0000, 0.0000, 0.0000, 0.0000],\n        [0.0000, 0.0000, 0.0000, 1.0000, 0.0000, 0.0000],\n        [0.0000, 0.0000, 0.0000, 0.0000, 0.0000, 1.0000],\n        [1.0000, 0.0000, 0.0000, 0.0000, 0.0000, 0.0000],\n        [0.0000, 0.0382, 0.0000, 0.9618, 0.0000, 0.0000],\n        [0.0000, 0.0000, 0.0000, 0.0000, 0.0000, 1.0000],\n        [0.0000, 1.0000, 0.0000, 0.0000, 0.0000, 0.0000],\n        [1.0000, 0.0000, 0.0000, 0.0000, 0.0000, 0.0000],\n        [0.0000, 0.0000, 0.0000, 0.0000, 0.0000, 1.0000],\n        [0.0000, 0.0000, 0.0000, 0.0000, 0.0000, 1.0000],\n        [0.2609, 0.7264, 0.0000, 0.0000, 0.0000, 0.0126],\n        [0.0000, 0.0000, 1.0000, 0.0000, 0.0000, 0.0000],\n        [0.0000, 0.0000, 0.0000, 0.0000, 1.0000, 0.0000],\n        [0.0000, 1.0000, 0.0000, 0.0000, 0.0000, 0.0000],\n        [0.0000, 0.0000, 0.0000, 0.0000, 0.0000, 1.0000],\n        [0.0000, 0.0025, 0.0000, 0.0016, 0.0000, 0.9960],\n        [0.0000, 0.0000, 0.0000, 0.0000, 1.0000, 0.0000],\n        [0.0000, 1.0000, 0.0000, 0.0000, 0.0000, 0.0000],\n        [0.0000, 0.0000, 0.0000, 0.0000, 0.0000, 1.0000],\n        [1.0000, 0.0000, 0.0000, 0.0000, 0.0000, 0.0000],\n        [0.0000, 1.0000, 0.0000, 0.0000, 0.0000, 0.0000],\n        [0.4777, 0.0000, 0.0000, 0.0000, 0.0000, 0.5223],\n        [0.0000, 0.0415, 0.0000, 0.0186, 0.0000, 0.9399],\n        [0.0000, 0.8983, 0.1017, 0.0000, 0.0000, 0.0000],\n        [0.0000, 0.0000, 0.0000, 0.0000, 0.0000, 1.0000],\n        [0.0000, 0.0000, 0.0000, 0.0000, 0.0000, 1.0000],\n        [0.0000, 0.0000, 0.4520, 0.0000, 0.0000, 0.5480],\n        [0.0000, 0.0000, 0.0000, 0.0000, 0.0000, 1.0000],\n        [0.0000, 0.0000, 0.0000, 0.0000, 0.0000, 1.0000],\n        [0.0000, 1.0000, 0.0000, 0.0000, 0.0000, 0.0000],\n        [0.0000, 0.0000, 1.0000, 0.0000, 0.0000, 0.0000],\n        [0.0000, 0.0000, 1.0000, 0.0000, 0.0000, 0.0000],\n        [0.0000, 1.0000, 0.0000, 0.0000, 0.0000, 0.0000],\n        [0.0054, 0.9946, 0.0000, 0.0000, 0.0000, 0.0000],\n        [1.0000, 0.0000, 0.0000, 0.0000, 0.0000, 0.0000],\n        [1.0000, 0.0000, 0.0000, 0.0000, 0.0000, 0.0000],\n        [0.0000, 0.0000, 0.0000, 0.0000, 0.0000, 1.0000],\n        [0.0000, 0.0000, 0.0000, 0.0000, 0.0000, 1.0000],\n        [0.0000, 0.0000, 0.0000, 0.0000, 0.0000, 1.0000],\n        [0.0000, 0.0000, 0.0000, 0.0000, 0.0000, 1.0000]], device='cuda:0',\n       grad_fn=<DivBackward0>)"
     },
     "execution_count": 30,
     "metadata": {},
     "output_type": "execute_result"
    }
   ],
   "source": [
    "prediction"
   ],
   "metadata": {
    "collapsed": false,
    "ExecuteTime": {
     "end_time": "2024-06-09T20:55:55.333408400Z",
     "start_time": "2024-06-09T20:55:55.280399300Z"
    }
   }
  },
  {
   "cell_type": "code",
   "execution_count": 31,
   "outputs": [
    {
     "data": {
      "text/plain": "tensor([[0.0000, 0.0000, 0.2308, 0.0000, 0.0769, 0.6923],\n        [0.0000, 0.0000, 0.0000, 0.0000, 0.0000, 1.0000],\n        [0.0000, 0.0000, 0.0000, 0.0000, 0.0000, 1.0000],\n        [0.0000, 0.0500, 0.0000, 0.0000, 0.0000, 0.9500],\n        [0.0000, 0.0000, 0.0000, 0.0000, 0.0000, 1.0000],\n        [0.0000, 0.3333, 0.0000, 0.6667, 0.0000, 0.0000],\n        [0.0000, 0.0000, 0.0000, 0.6667, 0.0000, 0.3333],\n        [0.0000, 0.0000, 0.0000, 0.0000, 0.0000, 1.0000],\n        [0.0714, 0.0000, 0.0000, 0.0714, 0.1429, 0.7143],\n        [0.0000, 0.0000, 0.0909, 0.0000, 0.0909, 0.8182],\n        [0.0000, 0.0667, 0.0000, 0.0000, 0.0000, 0.9333],\n        [1.0000, 0.0000, 0.0000, 0.0000, 0.0000, 0.0000],\n        [0.0000, 0.0000, 0.0000, 0.0000, 0.0000, 1.0000],\n        [0.0000, 0.0000, 0.0000, 0.0000, 1.0000, 0.0000],\n        [0.0000, 0.0000, 0.0870, 0.0000, 0.0000, 0.9130],\n        [0.0000, 0.0000, 0.0000, 0.0000, 0.0000, 1.0000],\n        [0.0000, 0.9167, 0.0833, 0.0000, 0.0000, 0.0000],\n        [0.0000, 0.6667, 0.3333, 0.0000, 0.0000, 0.0000],\n        [0.0000, 0.5000, 0.0000, 0.0000, 0.0000, 0.5000],\n        [0.3333, 0.0000, 0.0000, 0.0000, 0.3333, 0.3333],\n        [0.0000, 0.0000, 0.0000, 0.0000, 0.0000, 1.0000],\n        [1.0000, 0.0000, 0.0000, 0.0000, 0.0000, 0.0000],\n        [0.0000, 0.0000, 0.0500, 0.0000, 0.0000, 0.9500],\n        [0.0000, 0.0000, 0.0000, 0.3333, 0.0000, 0.6667],\n        [0.0000, 0.0000, 0.0000, 0.0000, 0.4000, 0.6000],\n        [0.0000, 0.0000, 0.0000, 0.0000, 0.0000, 1.0000],\n        [0.0000, 1.0000, 0.0000, 0.0000, 0.0000, 0.0000],\n        [0.2500, 0.0000, 0.6667, 0.0000, 0.0833, 0.0000],\n        [0.0000, 1.0000, 0.0000, 0.0000, 0.0000, 0.0000],\n        [0.0000, 0.0000, 0.0000, 0.0000, 0.0000, 1.0000],\n        [0.0000, 0.0000, 0.0000, 0.0000, 1.0000, 0.0000],\n        [0.0000, 0.0000, 0.0000, 0.0000, 0.0000, 1.0000],\n        [0.0000, 0.0000, 0.0000, 0.0000, 0.0000, 1.0000],\n        [0.0000, 0.0000, 0.0000, 0.0000, 0.0000, 1.0000],\n        [1.0000, 0.0000, 0.0000, 0.0000, 0.0000, 0.0000],\n        [0.0667, 0.0667, 0.6000, 0.0000, 0.2000, 0.0667],\n        [0.0000, 0.0000, 0.0000, 0.0000, 0.0000, 1.0000],\n        [0.0000, 0.0667, 0.8667, 0.0000, 0.0000, 0.0667],\n        [0.0000, 0.0000, 0.0000, 0.0000, 1.0000, 0.0000],\n        [0.0000, 0.0000, 0.0000, 0.0000, 0.0000, 1.0000],\n        [0.0000, 0.0000, 0.0000, 0.0000, 1.0000, 0.0000],\n        [0.0000, 0.0000, 0.0000, 0.3333, 0.3333, 0.3333],\n        [1.0000, 0.0000, 0.0000, 0.0000, 0.0000, 0.0000],\n        [0.0000, 0.0000, 0.6667, 0.0000, 0.0000, 0.3333],\n        [0.0000, 0.0000, 0.1667, 0.0000, 0.0833, 0.7500],\n        [0.0000, 0.0000, 0.0000, 0.0000, 0.5000, 0.5000],\n        [0.0000, 1.0000, 0.0000, 0.0000, 0.0000, 0.0000],\n        [0.0000, 0.0000, 0.0000, 0.0000, 0.0000, 1.0000],\n        [0.0000, 0.0000, 1.0000, 0.0000, 0.0000, 0.0000],\n        [0.0000, 0.0000, 1.0000, 0.0000, 0.0000, 0.0000],\n        [0.0000, 0.0000, 0.0000, 0.0000, 0.0000, 1.0000],\n        [0.0833, 0.2500, 0.0000, 0.4167, 0.0000, 0.2500],\n        [0.0000, 0.0000, 0.0000, 0.0000, 0.0000, 1.0000],\n        [0.0000, 0.5000, 0.0000, 0.2500, 0.0000, 0.2500],\n        [1.0000, 0.0000, 0.0000, 0.0000, 0.0000, 0.0000],\n        [0.0000, 0.0000, 0.0000, 0.0000, 0.0000, 1.0000],\n        [1.0000, 0.0000, 0.0000, 0.0000, 0.0000, 0.0000],\n        [0.0000, 0.0000, 0.0000, 0.0000, 0.0000, 1.0000],\n        [0.0000, 0.0000, 0.0000, 0.0000, 0.0000, 1.0000],\n        [0.0000, 0.0833, 0.0000, 0.0000, 0.0000, 0.9167],\n        [0.0000, 0.0000, 0.0000, 0.0000, 0.0000, 1.0000],\n        [0.0833, 0.3333, 0.0000, 0.0833, 0.0000, 0.5000],\n        [1.0000, 0.0000, 0.0000, 0.0000, 0.0000, 0.0000],\n        [0.0000, 0.0000, 0.0000, 0.0000, 0.0000, 1.0000],\n        [1.0000, 0.0000, 0.0000, 0.0000, 0.0000, 0.0000],\n        [1.0000, 0.0000, 0.0000, 0.0000, 0.0000, 0.0000],\n        [0.0000, 0.2500, 0.0000, 0.0000, 0.0000, 0.7500],\n        [0.0000, 0.0000, 0.0000, 0.0000, 0.0000, 1.0000],\n        [0.0714, 0.0000, 0.9286, 0.0000, 0.0000, 0.0000],\n        [0.0000, 0.0000, 0.0000, 0.0000, 0.6875, 0.3125],\n        [1.0000, 0.0000, 0.0000, 0.0000, 0.0000, 0.0000],\n        [0.0000, 0.0000, 1.0000, 0.0000, 0.0000, 0.0000],\n        [0.0000, 0.0000, 0.0000, 0.0000, 1.0000, 0.0000],\n        [0.0000, 0.6923, 0.0000, 0.1538, 0.0000, 0.1538],\n        [0.0000, 0.0000, 0.0000, 0.0000, 0.0000, 1.0000],\n        [0.0000, 0.0000, 0.0000, 0.0000, 0.0000, 1.0000],\n        [0.0000, 1.0000, 0.0000, 0.0000, 0.0000, 0.0000],\n        [0.0000, 0.0000, 0.0000, 0.0000, 0.7500, 0.2500],\n        [1.0000, 0.0000, 0.0000, 0.0000, 0.0000, 0.0000],\n        [0.0000, 0.0000, 0.0769, 0.0000, 0.9231, 0.0000],\n        [0.0000, 1.0000, 0.0000, 0.0000, 0.0000, 0.0000],\n        [0.0000, 0.0000, 0.0000, 0.0000, 0.0000, 1.0000],\n        [0.0000, 0.0000, 0.0000, 0.0000, 0.0000, 1.0000],\n        [0.0000, 0.0000, 0.0000, 0.0000, 0.0000, 1.0000],\n        [0.0000, 0.9286, 0.0714, 0.0000, 0.0000, 0.0000],\n        [0.0000, 0.0000, 1.0000, 0.0000, 0.0000, 0.0000],\n        [0.0000, 0.0000, 0.0000, 0.0000, 0.0000, 1.0000],\n        [0.0000, 0.7500, 0.0000, 0.2500, 0.0000, 0.0000],\n        [1.0000, 0.0000, 0.0000, 0.0000, 0.0000, 0.0000],\n        [0.0000, 0.0625, 0.0000, 0.6875, 0.0000, 0.2500],\n        [0.0000, 0.0000, 0.0000, 0.0000, 0.0000, 1.0000],\n        [1.0000, 0.0000, 0.0000, 0.0000, 0.0000, 0.0000],\n        [0.0000, 0.5000, 0.0000, 0.5000, 0.0000, 0.0000],\n        [0.0000, 0.0833, 0.0000, 0.4167, 0.0000, 0.5000],\n        [0.0000, 0.6667, 0.0000, 0.3333, 0.0000, 0.0000],\n        [1.0000, 0.0000, 0.0000, 0.0000, 0.0000, 0.0000],\n        [0.0000, 0.0000, 0.0000, 0.0000, 0.0000, 1.0000],\n        [0.0000, 0.0000, 0.0000, 0.0000, 0.0000, 1.0000],\n        [0.5000, 0.5000, 0.0000, 0.0000, 0.0000, 0.0000],\n        [0.0000, 0.0000, 0.9167, 0.0000, 0.0000, 0.0833],\n        [0.0000, 0.0000, 0.0000, 0.0000, 1.0000, 0.0000],\n        [0.3636, 0.5455, 0.0000, 0.0000, 0.0000, 0.0909],\n        [0.0667, 0.0000, 0.0000, 0.3333, 0.0667, 0.5333],\n        [0.0000, 0.3571, 0.0000, 0.0714, 0.0000, 0.5714],\n        [0.0000, 0.0000, 0.0000, 0.0000, 0.6923, 0.3077],\n        [0.0000, 1.0000, 0.0000, 0.0000, 0.0000, 0.0000],\n        [0.0000, 0.0000, 0.0000, 0.0000, 0.0000, 1.0000],\n        [1.0000, 0.0000, 0.0000, 0.0000, 0.0000, 0.0000],\n        [0.3333, 0.6667, 0.0000, 0.0000, 0.0000, 0.0000],\n        [1.0000, 0.0000, 0.0000, 0.0000, 0.0000, 0.0000],\n        [0.0000, 0.3333, 0.0000, 0.3333, 0.0000, 0.3333],\n        [0.0000, 0.4000, 0.4000, 0.0000, 0.0000, 0.2000],\n        [0.0000, 0.0000, 0.0000, 0.0000, 0.0000, 1.0000],\n        [0.0000, 0.1176, 0.0000, 0.0000, 0.0000, 0.8824],\n        [0.0000, 0.2143, 0.4286, 0.0714, 0.0714, 0.2143],\n        [0.0667, 0.0000, 0.0000, 0.0000, 0.1333, 0.8000],\n        [0.0000, 0.0000, 0.0000, 0.1538, 0.0000, 0.8462],\n        [0.0000, 1.0000, 0.0000, 0.0000, 0.0000, 0.0000],\n        [0.0000, 0.0000, 0.6842, 0.0000, 0.0526, 0.2632],\n        [0.0000, 0.3333, 0.6667, 0.0000, 0.0000, 0.0000],\n        [0.0000, 0.6667, 0.3333, 0.0000, 0.0000, 0.0000],\n        [0.0588, 0.8235, 0.0000, 0.0588, 0.0000, 0.0588],\n        [1.0000, 0.0000, 0.0000, 0.0000, 0.0000, 0.0000],\n        [1.0000, 0.0000, 0.0000, 0.0000, 0.0000, 0.0000],\n        [0.0000, 0.0000, 0.0000, 0.0000, 0.0000, 1.0000],\n        [0.0000, 0.0000, 0.0000, 0.0000, 0.0000, 1.0000],\n        [0.0000, 0.0000, 0.0000, 0.0000, 0.0000, 1.0000],\n        [0.0000, 0.0000, 0.0000, 0.0000, 0.0000, 1.0000]], device='cuda:0')"
     },
     "execution_count": 31,
     "metadata": {},
     "output_type": "execute_result"
    }
   ],
   "source": [
    "batch_labels"
   ],
   "metadata": {
    "collapsed": false,
    "ExecuteTime": {
     "end_time": "2024-06-09T20:55:55.981692700Z",
     "start_time": "2024-06-09T20:55:55.943693100Z"
    }
   }
  },
  {
   "cell_type": "code",
   "execution_count": 39,
   "outputs": [
    {
     "data": {
      "text/plain": "tensor([0.6154, 0.0000, 0.0000, 0.1000, 0.0000, 0.6667, 0.0718, 0.0000, 0.5714,\n        0.3636, 0.1333, 0.1042, 0.0000, 0.0000, 0.1739, 0.0000, 0.1667, 0.6667,\n        0.9843, 0.5892, 0.0000, 0.0000, 0.1000, 0.6533, 0.8000, 0.0000, 0.0000,\n        0.6667, 0.0000, 0.0000, 0.1633, 0.0000, 0.0000, 0.0000, 0.0031, 0.7668,\n        0.0000, 0.2667, 0.0000, 0.0000, 0.0000, 1.2457, 0.0000, 0.6667, 0.5000,\n        0.2436, 0.0000, 0.0000, 0.0000, 0.0000, 0.0000, 0.7919, 0.0000, 1.0000,\n        0.0000, 0.0000, 0.0649, 0.0000, 0.0000, 0.1667, 0.0000, 1.0000, 0.0000,\n        0.0000, 0.0000, 0.0000, 0.5000, 0.0000, 0.1429, 0.6250, 0.2644, 0.0000,\n        0.0000, 0.6154, 0.0000, 0.0000, 0.0000, 0.3896, 0.8015, 0.1538, 0.0000,\n        0.0000, 0.0000, 0.0000, 0.1429, 0.0000, 0.0000, 0.5000, 0.0000, 0.6250,\n        0.0000, 0.0000, 0.9237, 1.0000, 0.6667, 0.0000, 0.0000, 0.0000, 0.4781,\n        0.1667, 0.0000, 0.9091, 0.9333, 0.8491, 0.6154, 0.0000, 0.0000, 0.0000,\n        0.6667, 1.0446, 1.2132, 0.9966, 0.0000, 0.2353, 0.7143, 0.4000, 0.3077,\n        0.0000, 0.6316, 0.6667, 0.6667, 0.3421, 0.0000, 0.0000, 0.0000, 0.0000,\n        0.0000, 0.0000], device='cuda:0', grad_fn=<SumBackward1>)"
     },
     "execution_count": 39,
     "metadata": {},
     "output_type": "execute_result"
    }
   ],
   "source": [
    "torch.abs(batch_labels - prediction).sum(axis=1)"
   ],
   "metadata": {
    "collapsed": false,
    "ExecuteTime": {
     "end_time": "2024-06-09T20:57:58.086833300Z",
     "start_time": "2024-06-09T20:57:58.070833Z"
    }
   }
  },
  {
   "cell_type": "code",
   "execution_count": null,
   "outputs": [],
   "source": [
    " "
   ],
   "metadata": {
    "collapsed": false,
    "ExecuteTime": {
     "start_time": "2024-06-09T20:55:16.661238900Z"
    }
   }
  }
 ],
 "metadata": {
  "kaggle": {
   "accelerator": "nvidiaTeslaT4",
   "dataSources": [
    {
     "databundleVersionId": 7469972,
     "sourceId": 59093,
     "sourceType": "competition"
    },
    {
     "datasetId": 4317718,
     "sourceId": 7465251,
     "sourceType": "datasetVersion"
    },
    {
     "sourceId": 166350260,
     "sourceType": "kernelVersion"
    }
   ],
   "dockerImageVersionId": 30648,
   "isGpuEnabled": true,
   "isInternetEnabled": true,
   "language": "python",
   "sourceType": "notebook"
  },
  "kernelspec": {
   "display_name": "Python 3 (ipykernel)",
   "language": "python",
   "name": "python3"
  },
  "language_info": {
   "codemirror_mode": {
    "name": "ipython",
    "version": 3
   },
   "file_extension": ".py",
   "mimetype": "text/x-python",
   "name": "python",
   "nbconvert_exporter": "python",
   "pygments_lexer": "ipython3",
   "version": "3.10.0"
  }
 },
 "nbformat": 4,
 "nbformat_minor": 4
}
